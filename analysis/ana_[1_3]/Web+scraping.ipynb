{
 "cells": [
  {
   "cell_type": "markdown",
   "metadata": {
    "collapsed": false
   },
   "source": [
    "# Web Scraping Tripadvisor for fetching reviews for Hotel ID from Expedia  "
   ]
  },
  {
   "cell_type": "markdown",
   "metadata": {},
   "source": [
    "** We need chromedriver for fetching hotel reviews from the initial URL and then use the reviews for adding to Expedia**  "
   ]
  },
  {
   "cell_type": "code",
   "execution_count": null,
   "metadata": {
    "collapsed": true
   },
   "outputs": [],
   "source": [
    "import re\n",
    "import time, sys\n",
    "from selenium import webdriver\n",
    "from selenium.webdriver.support.ui import WebDriverWait\n",
    "from selenium.webdriver.support import expected_conditions\n",
    "from selenium.common.exceptions import NoSuchElementException\n",
    "from selenium.common.exceptions import WebDriverException\n",
    "import codecs\n",
    "import os.path\n",
    "import math"
   ]
  },
  {
   "cell_type": "code",
   "execution_count": 4,
   "metadata": {
    "collapsed": false
   },
   "outputs": [
    {
     "data": {
      "text/plain": [
       "'C:\\\\Users\\\\Jay Padhya\\\\Documents\\\\Python_FinalProject'"
      ]
     },
     "execution_count": 4,
     "metadata": {},
     "output_type": "execute_result"
    }
   ],
   "source": [
    "currentWD = os.getcwd()\n",
    "currentWD"
   ]
  },
  {
   "cell_type": "code",
   "execution_count": 9,
   "metadata": {
    "collapsed": true
   },
   "outputs": [],
   "source": [
    "url = 'http://www.tripadvisor.com/Hotels-g45963-Las_Vegas_Nevada-Hotels.html'\n",
    "driver = webdriver.Chrome('chromedriver.exe')\n",
    "driver.get(url)"
   ]
  },
  {
   "cell_type": "code",
   "execution_count": 10,
   "metadata": {
    "collapsed": true
   },
   "outputs": [],
   "source": [
    "baseDir = currentWD+\"\\\\Data\"\n",
    "completeDir = currentWD+\"\\\\BackupData\\\\Perfect\""
   ]
  },
  {
   "cell_type": "markdown",
   "metadata": {},
   "source": [
    "**Define the URL, hotelreview list and functions for getting reviews, getting hyperlinkks for further pages and processing hotels** "
   ]
  },
  {
   "cell_type": "code",
   "execution_count": null,
   "metadata": {
    "collapsed": true
   },
   "outputs": [],
   "source": [
    "prevPage = url\n",
    "prevPageNo = 1\n",
    "hotelReviewUrlLst = []\n",
    "\n",
    "if not os.path.exists(baseDir):\n",
    "   os.makedirs(os.path.dirname(baseDir))\n",
    "\n",
    "# gets the review count of the hotel\n",
    "def getReviews(reviewLink):\n",
    "    words = reviewLink.split(\">\") \n",
    "    review = words[-1].split(\" \")\n",
    "    review = review[0]\n",
    "    return int(review.replace(',', ''));\n",
    "\n",
    "# gets the text between the hyperlink\n",
    "def getReviewLink(reviewLink):\n",
    "    words = reviewLink.split(\">\") \n",
    "    return words[-1];\n",
    "\n",
    "def getHyperLink(reviewLink):\n",
    "    words = reviewLink.split(\"href=\\\"\") \n",
    "    link = words[-1].split(\"\\\"\")\n",
    "    link = link[0]\n",
    "    return link;\n",
    "\n",
    "def processHotel():\n",
    "    hotelName = driver.find_element_by_tag_name('h1').text\n",
    "    if os.path.exists(completeDir + \"\\\\\" + hotelName) or os.path.exists(baseDir + \"\\\\\" + hotelName) :\n",
    "        print (\"hotel \" + hotelName + \" is already processed, hence skipping it\")\n",
    "    else:\n",
    "        print(\"Processing hotel\", hotelName)\n",
    "        hotelDir = baseDir + \"\\\\\" + hotelName\n",
    "        if not os.path.exists(hotelDir):\n",
    "            os.makedirs(hotelDir)\n",
    "        reviewHeader = driver.find_element_by_xpath(\"//*[@id=\\\"HDPR_V1\\\"]/div[1]/h3\");\n",
    "        print(reviewHeader.text)\n",
    "        reviewHeader = reviewHeader.text.split(\" \")\n",
    "        reviews = reviewHeader[0]\n",
    "        reviews = int(reviews.replace(',', ''))\n",
    "        noOfPage = math.ceil(int(reviews) / 10)\n",
    "        if (int(reviews) % 10) > 0:\n",
    "            noOfPage += 1\n",
    "        print (\"Total no of pages containing review \", noOfPage)\n",
    "        currentPageNo = 1\n",
    "        while currentPageNo <= noOfPage:\n",
    "            print (\"Processing reviews in page \", currentPageNo)\n",
    "            print(\"\\n\")\n",
    "            fo = open(hotelDir + \"\\\\page_\" + str(currentPageNo) + \".html\", \"w+\")\n",
    "            fo.write( \"<html>\");\n",
    "            fo.write( \"<head><h3>\" + hotelName + \" Reviews Page \" + str(currentPageNo) + \"</h3></head>\");\n",
    "            fo.write( \"<body>\");\n",
    "            fo.write(\"<br>\")\n",
    "            readReviews(fo)\n",
    "            fo.write( \"</body>\");\n",
    "            fo.write( \"</html>\");\n",
    "            fo.close()\n",
    "            currentPageNo += 1\n",
    "            if currentPageNo <= noOfPage:\n",
    "                nextPageReview = driver.find_element_by_link_text(str(currentPageNo));\n",
    "                try:\n",
    "                    nextPageReview.click()\n",
    "                    time.sleep(1)   \n",
    "                except:\n",
    "                    driver.maximize_window()\n",
    "                    print(\"Failed to click on page no \", currentPageNo, \" trying to close the pop up\")\n",
    "                    mouse = webdriver.ActionChains(driver) \n",
    "                    moreLink = driver.find_element_by_class_name(\"dismiss\")\n",
    "                    moreLink.click()\n",
    "                    print (\"Trying to click page \", currentPageNo, \" again\")\n",
    "                    mouse = webdriver.ActionChains(driver) \n",
    "                    mouse.move_to_element(nextPageReview).click().perform()\n",
    "                    #nextPageReview.click()\n",
    "                    time.sleep(1)\n",
    "    return;\n",
    "\n"
   ]
  },
  {
   "cell_type": "markdown",
   "metadata": {},
   "source": [
    "**Once we found the pages, we need to iterate over the customer reviews and then store it in utf-8 format so we can read back in pandas**"
   ]
  },
  {
   "cell_type": "code",
   "execution_count": null,
   "metadata": {
    "collapsed": true
   },
   "outputs": [],
   "source": [
    "def readReviews(fo):\n",
    "    reviewHead = re.finditer('<span class=\"noQuotes\">([0-9A-Za-z](.|\\s)*?)</span>', driver.page_source)\n",
    "    try :\n",
    "        while True:\n",
    "            mouse = webdriver.ActionChains(driver) \n",
    "            moreLink = driver.find_element_by_class_name(\"partnerRvw\")\n",
    "            moreLink = moreLink.find_element_by_xpath(\"span\")\n",
    "            mouse.move_to_element(moreLink).click().perform()\n",
    "            time.sleep(2)\n",
    "            closeLink = driver.find_element_by_class_name(\"xCloseGreen\");\n",
    "            mouse.move_to_element(closeLink).click().perform()\n",
    "    except:\n",
    "        pass\n",
    "    custReview = driver.find_elements_by_class_name(\"entry\")\n",
    "    i = 0\n",
    "    for reviewTitle in reviewHead:\n",
    "        reviewTitle = reviewTitle.group(1)\n",
    "        fo.write(reviewTitle.encode(\"utf-8\"))\n",
    "        fo.write(\"<p>\")\n",
    "        if custReview[i].text.encode(\"utf-8\") and custReview[i].text.encode(\"utf-8\").strip():\n",
    "            fo.write(custReview[i].text.encode(\"utf-8\"))\n",
    "        else :\n",
    "            fo.write(custReview[i+1].text.encode(\"utf-8\"))\n",
    "            i += 1\n",
    "        fo.write(\"</p>\")\n",
    "        fo.write(\"<br>\")\n",
    "        i += 1\n",
    "    return"
   ]
  },
  {
   "cell_type": "markdown",
   "metadata": {},
   "source": [
    "** Now we will iterate over 55 hotels web pages and then get the reviews for each of the hotels from the URL **"
   ]
  },
  {
   "cell_type": "code",
   "execution_count": null,
   "metadata": {
    "collapsed": true
   },
   "outputs": [],
   "source": [
    "# get the list of review urls of 55 hotels\n",
    "while len(hotelReviewUrlLst) < 55 :\n",
    "    reviews = re.finditer('<span class=\"more\"><a onclick=\"((.|\\s)*?)</a></span>', driver.page_source)   \n",
    "    for review in reviews:\n",
    "        reviewText = review.group(1)\n",
    "        reviewNum = getReviews(reviewText)\n",
    "        if reviewNum >= 50 and reviewNum < 501:\n",
    "            link = getHyperLink(reviewText)\n",
    "            hotelReviewUrlLst.append(link); \n",
    "        if len(hotelReviewUrlLst) >= 55:\n",
    "            break\n",
    "    \n",
    "    if len(hotelReviewUrlLst) >= 55:\n",
    "        break\n",
    "    else :\n",
    "        try:\n",
    "            print (len(hotelReviewUrlLst))\n",
    "            nextLink = driver.find_element_by_link_text(\"Next\");\n",
    "            nextLink.click()\n",
    "            time.sleep(2)\n",
    "        except:\n",
    "            nextLink = driver.find_element_by_link_text(\"Next\");\n",
    "            nextLink.click()\n",
    "            time.sleep(2)\n",
    "    \n",
    "print (\"Found 50 hotel having 50 or more customer reviews\")\n",
    "\n",
    "for link in hotelReviewUrlLst:\n",
    "    link = \"http://www.tripadvisor.com/\" + link\n",
    "    driver.get(link);\n",
    "    time.sleep(10)\n",
    "    try:\n",
    "        processHotel()\n",
    "        driver.close()\n",
    "        driver = webdriver.Chrome('chromedriver.exe')\n",
    "    except e:\n",
    "        print (\"failed to process \", link, \"completely, Moving on processing next hotel\")\n",
    "        print (\"Failed to process hotel because : \" + str(e))\n",
    "\n",
    "print (\"Done processing all the hotels, closing the chrome browser\")  \n",
    "driver.quit()"
   ]
  }
 ],
 "metadata": {
  "anaconda-cloud": {},
  "kernelspec": {
   "display_name": "Python [default]",
   "language": "python",
   "name": "python3"
  },
  "language_info": {
   "codemirror_mode": {
    "name": "ipython",
    "version": 3
   },
   "file_extension": ".py",
   "mimetype": "text/x-python",
   "name": "python",
   "nbconvert_exporter": "python",
   "pygments_lexer": "ipython3",
   "version": "3.5.2"
  }
 },
 "nbformat": 4,
 "nbformat_minor": 1
}
