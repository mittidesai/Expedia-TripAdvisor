{
 "cells": [
  {
   "cell_type": "markdown",
   "metadata": {},
   "source": [
    "# Analysis 2 : Sentimental and Text Analysis  "
   ]
  },
  {
   "cell_type": "markdown",
   "metadata": {},
   "source": [
    "We divide the analysis in Four Parts :-\n",
    "\n",
    "A) Find the **Overall Satisfaction Score (OSAT = Average of all scores)** from all types of scores given by real time customer revwiews but keeping number of reviews in option.\n",
    "\n",
    "B) Find **Hotel IDs** from **CSV** and collect reviews of hotels from **TripAdvisor API key call** and **Expedia web scraping.**(TripAdvisor does not provide API key for research purpose and one has to purchase for one year period So we scrape the data.)\n",
    "\n",
    "C) Perform **Sentimental Analysis** using **NLTK and NLTK API** for both reviews on Tripadvisor and Expedia to understand what customers say on two of the most heavily used websites.\n",
    "\n",
    "D)  Perform **Sentimental Analysis** using Microsoft Cognitive Sentimental API to have an overall setomental score and **Text Analysis** using Microsoft Cognitive KeyPhrase API to have top three key words used from Expedia API data across all Expedia hotels\n"
   ]
  },
  {
   "cell_type": "markdown",
   "metadata": {},
   "source": [
    "# A) Overall Satisfaction Score (OSAT = Average of all scores)\n"
   ]
  },
  {
   "cell_type": "code",
   "execution_count": 2,
   "metadata": {
    "collapsed": false
   },
   "outputs": [],
   "source": [
    "import pandas as pd\n",
    "import matplotlib as plt\n",
    "import numpy as np\n",
    "import re\n",
    "import requests\n",
    "import logging\n",
    "import os\n",
    "import json\n",
    "import html5lib\n",
    "from bs4 import BeautifulSoup\n",
    "import glob,string #Importing glob for iterations and storing\n",
    "import seaborn as sns\n",
    "%matplotlib inline\n",
    "from matplotlib import *\n",
    "import sys\n",
    "from pylab import *\n",
    "import urllib.request\n",
    "import glob\n",
    "import nltk"
   ]
  },
  {
   "cell_type": "code",
   "execution_count": 3,
   "metadata": {
    "collapsed": false
   },
   "outputs": [
    {
     "data": {
      "text/plain": [
       "'C:\\\\Users\\\\Jay Padhya\\\\Documents\\\\Python_FinalProject'"
      ]
     },
     "execution_count": 3,
     "metadata": {},
     "output_type": "execute_result"
    }
   ],
   "source": [
    "currentWD = os.getcwd()\n",
    "currentWD"
   ]
  },
  {
   "cell_type": "code",
   "execution_count": 5,
   "metadata": {
    "collapsed": false
   },
   "outputs": [],
   "source": [
    "test_data = pd.read_csv(currentWD+\"/\"+'test.csv')"
   ]
  },
  {
   "cell_type": "markdown",
   "metadata": {},
   "source": [
    "# A) Analysis 1 : Find OSAT scores from API calls for hotels\n",
    "\n",
    "# Step 1:\n",
    "\n",
    "We use **TripAdvisor API key** for fecthing reviews for all hotel IDs in JSON and parse the file to fetch HotelReviews, RoomCleanliness Score, Room comfort score and Hotel Condition Score.  "
   ]
  },
  {
   "cell_type": "code",
   "execution_count": 6,
   "metadata": {
    "collapsed": false
   },
   "outputs": [
    {
     "name": "stderr",
     "output_type": "stream",
     "text": [
      "C:\\Users\\Jay Padhya\\Anaconda3\\New\\lib\\site-packages\\ipykernel\\__main__.py:2: FutureWarning: sort(columns=....) is deprecated, use sort_values(by=.....)\n",
      "  from ipykernel import kernelapp as app\n"
     ]
    }
   ],
   "source": [
    "test_data_booking = test_data.groupby('srch_destination_id').sum()\n",
    "test_data_booking = test_data_booking.sort('is_booking',ascending = False)\n",
    "#data_booking =pd.DataFrame(test_data_booking.reset_index) \n",
    "test_data_booking['srch_destination_id'] = test_data_booking.index # This will ensure that 'srch_destination_id' appears at the end\n",
    "top_ten_hotel_destinations = test_data_booking.head(15)\n",
    "hotel_ids = top_ten_hotel_destinations['srch_destination_id']\n",
    "#hotel_ids To fetch the top ten values for hotel destination IDs"
   ]
  },
  {
   "cell_type": "code",
   "execution_count": 11,
   "metadata": {
    "collapsed": false
   },
   "outputs": [],
   "source": [
    "expedia_API_key = os.getenv('auth_key')\n",
    "#print(expedia_API_key)"
   ]
  },
  {
   "cell_type": "code",
   "execution_count": 12,
   "metadata": {
    "collapsed": false
   },
   "outputs": [],
   "source": [
    "data = []\n",
    "for x in hotel_ids:\n",
    "    r = requests.get(\"http://terminal2.expedia.com/x/reviews/hotels?hotelId=\"+x+\"&apikey=\"+expedia_API_key+\"summary?sortBy=DATEASC\")\n",
    "    data = r.json()\n",
    "#data #To see the JSON Data coming in Data for Hotel IDS\n",
    "with open('final_reviews.json', 'w') as outfile:\n",
    "        json.dump(data, outfile)"
   ]
  },
  {
   "cell_type": "code",
   "execution_count": 24,
   "metadata": {
    "collapsed": false
   },
   "outputs": [
    {
     "name": "stdout",
     "output_type": "stream",
     "text": [
      "C:\\Users\\Jay Padhya\\Documents\\Python_FinalProject/Expedia_API_JSON\\trial.json\n"
     ]
    }
   ],
   "source": [
    "files=glob.glob(currentWD+'/Expedia_API_JSON/*')\n",
    "textbody=[]\n",
    "reco = []\n",
    "for file in files:\n",
    "    print(file) # the list of files for referring\n",
    "    with open(file) as data_file:    \n",
    "        data = json.load(data_file)\n",
    "        x = data['results']['hotereviews']"
   ]
  },
  {
   "cell_type": "code",
   "execution_count": 41,
   "metadata": {
    "collapsed": false
   },
   "outputs": [],
   "source": [
    "hotelid = []\n",
    "ratingRoomCleanliness = []\n",
    "ratingRoomComfort = []\n",
    "ratingHotelCondition = []\n",
    "hotelReview = []\n",
    "for y in x:\n",
    "    hotelid.append((y['hotelID']))\n",
    "    ratingRoomCleanliness.append((y['ratingRoomCleanliness']))\n",
    "    ratingRoomComfort.append((y['ratingRoomComfort']))\n",
    "    ratingHotelCondition.append((y['ratingHotelCondition']))\n",
    "    hotelReview.append((y['hotelReview']))\n",
    "finalsummary= (list(zip(hotelid,ratingRoomCleanliness,ratingRoomComfort,ratingHotelCondition,hotelReview)))\n",
    "finallist = sorted(finalsummary, reverse = True) # Reverse sorting to know which are top notch recommended comments\n",
    "toptencomments = finallist[:10]\n",
    "#toptencomments  #prints what is needed"
   ]
  },
  {
   "cell_type": "markdown",
   "metadata": {},
   "source": [
    "• Now we will store the result in CSV for further analysis. "
   ]
  },
  {
   "cell_type": "code",
   "execution_count": null,
   "metadata": {
    "collapsed": false
   },
   "outputs": [],
   "source": [
    "import csv\n",
    "with open('reviews_clean_flitered.txt','w') as fp: #Command to make csv\n",
    "    a = csv.writer(fp, delimiter = ',',lineterminator='\\n')\n",
    "    a.writerows(toptencomments,) #writerows and writerow would give a single row"
   ]
  },
  {
   "cell_type": "markdown",
   "metadata": {},
   "source": [
    "# Step 2 \n",
    "\n",
    "- **Using the saved CSV data set we will load Hotel Review scores and find Overall Satsifaction score as single point of reference for a particular hotel**"
   ]
  },
  {
   "cell_type": "code",
   "execution_count": 7,
   "metadata": {
    "collapsed": false
   },
   "outputs": [
    {
     "name": "stderr",
     "output_type": "stream",
     "text": [
      "C:\\Users\\Jay Padhya\\Anaconda3\\New\\lib\\site-packages\\IPython\\core\\interactiveshell.py:2717: DtypeWarning: Columns (3,4) have mixed types. Specify dtype option on import or set low_memory=False.\n",
      "  interactivity=interactivity, compiler=compiler, result=result)\n",
      "C:\\Users\\Jay Padhya\\Anaconda3\\New\\lib\\site-packages\\ipykernel\\__main__.py:4: FutureWarning: convert_objects is deprecated.  Use the data-type specific converters pd.to_datetime, pd.to_timedelta and pd.to_numeric.\n",
      "C:\\Users\\Jay Padhya\\Anaconda3\\New\\lib\\site-packages\\ipykernel\\__main__.py:5: FutureWarning: convert_objects is deprecated.  Use the data-type specific converters pd.to_datetime, pd.to_timedelta and pd.to_numeric.\n",
      "C:\\Users\\Jay Padhya\\Anaconda3\\New\\lib\\site-packages\\ipykernel\\__main__.py:6: FutureWarning: convert_objects is deprecated.  Use the data-type specific converters pd.to_datetime, pd.to_timedelta and pd.to_numeric.\n"
     ]
    }
   ],
   "source": [
    "data_review = pd.read_csv('reviews_clean_flitered.txt',names=[\"hotelID\",\"Expedia_User_Comments\",\"Expedia_Cleanliness\",\"Expedia_RoomComfort\",\"Expedia_HotelCondition\"],sep=\"^\")\n",
    "# We will now convert all SERIES objects into FLOATs by using convert_numeric as true\n",
    "\n",
    "data_review['Expedia_Cleanliness'] = data_review['Expedia_Cleanliness'].convert_objects(convert_numeric = True)\n",
    "data_review['Expedia_RoomComfort'] = data_review['Expedia_RoomComfort'].convert_objects(convert_numeric = True)\n",
    "data_review['Expedia_HotelCondition'] = data_review['Expedia_HotelCondition'].convert_objects(convert_numeric = True)\n",
    "data_review['Expedia_Cleanliness'] = data_review['Expedia_Cleanliness'].astype(float)\n",
    "data_review['Expedia_RoomComfort'] = data_review['Expedia_RoomComfort'].astype(float)\n",
    "data_review['Expedia_HotelCondition'] = data_review['Expedia_HotelCondition'].astype(float)"
   ]
  },
  {
   "cell_type": "code",
   "execution_count": 8,
   "metadata": {
    "collapsed": false
   },
   "outputs": [
    {
     "name": "stderr",
     "output_type": "stream",
     "text": [
      "C:\\Users\\Jay Padhya\\Anaconda3\\New\\lib\\site-packages\\ipykernel\\__main__.py:3: FutureWarning: sort(columns=....) is deprecated, use sort_values(by=.....)\n",
      "  app.launch_new_instance()\n"
     ]
    },
    {
     "data": {
      "text/html": [
       "<div>\n",
       "<table border=\"1\" class=\"dataframe\">\n",
       "  <thead>\n",
       "    <tr style=\"text-align: right;\">\n",
       "      <th></th>\n",
       "      <th>Expedia_User_Comments</th>\n",
       "      <th>Expedia_Cleanliness</th>\n",
       "      <th>Expedia_RoomComfort</th>\n",
       "      <th>Expedia_HotelCondition</th>\n",
       "      <th>hotelID</th>\n",
       "    </tr>\n",
       "    <tr>\n",
       "      <th>hotelID</th>\n",
       "      <th></th>\n",
       "      <th></th>\n",
       "      <th></th>\n",
       "      <th></th>\n",
       "      <th></th>\n",
       "    </tr>\n",
       "  </thead>\n",
       "  <tbody>\n",
       "    <tr>\n",
       "      <th>8253</th>\n",
       "      <td>177</td>\n",
       "      <td>177</td>\n",
       "      <td>177</td>\n",
       "      <td>177</td>\n",
       "      <td>8253</td>\n",
       "    </tr>\n",
       "    <tr>\n",
       "      <th>8279</th>\n",
       "      <td>120</td>\n",
       "      <td>120</td>\n",
       "      <td>120</td>\n",
       "      <td>120</td>\n",
       "      <td>8279</td>\n",
       "    </tr>\n",
       "    <tr>\n",
       "      <th>8230</th>\n",
       "      <td>100</td>\n",
       "      <td>100</td>\n",
       "      <td>100</td>\n",
       "      <td>100</td>\n",
       "      <td>8230</td>\n",
       "    </tr>\n",
       "  </tbody>\n",
       "</table>\n",
       "</div>"
      ],
      "text/plain": [
       "         Expedia_User_Comments  Expedia_Cleanliness  Expedia_RoomComfort  \\\n",
       "hotelID                                                                    \n",
       "8253                       177                  177                  177   \n",
       "8279                       120                  120                  120   \n",
       "8230                       100                  100                  100   \n",
       "\n",
       "         Expedia_HotelCondition  hotelID  \n",
       "hotelID                                   \n",
       "8253                        177     8253  \n",
       "8279                        120     8279  \n",
       "8230                        100     8230  "
      ]
     },
     "execution_count": 8,
     "metadata": {},
     "output_type": "execute_result"
    }
   ],
   "source": [
    "df = data_review.groupby('hotelID').count()\n",
    "# To find the number of surveys given \n",
    "df_count = df.sort('Expedia_Cleanliness',ascending=False)\n",
    "df_count['hotelID'] = df_count.index \n",
    "df_count.head(3)"
   ]
  },
  {
   "cell_type": "code",
   "execution_count": 9,
   "metadata": {
    "collapsed": false
   },
   "outputs": [
    {
     "name": "stderr",
     "output_type": "stream",
     "text": [
      "C:\\Users\\Jay Padhya\\Anaconda3\\New\\lib\\site-packages\\ipykernel\\__main__.py:3: FutureWarning: sort(columns=....) is deprecated, use sort_values(by=.....)\n",
      "  app.launch_new_instance()\n"
     ]
    },
    {
     "data": {
      "text/html": [
       "<div>\n",
       "<table border=\"1\" class=\"dataframe\">\n",
       "  <thead>\n",
       "    <tr style=\"text-align: right;\">\n",
       "      <th></th>\n",
       "      <th>Expedia_Cleanliness</th>\n",
       "      <th>Expedia_RoomComfort</th>\n",
       "      <th>Expedia_HotelCondition</th>\n",
       "      <th>hotelID</th>\n",
       "    </tr>\n",
       "    <tr>\n",
       "      <th>hotelID</th>\n",
       "      <th></th>\n",
       "      <th></th>\n",
       "      <th></th>\n",
       "      <th></th>\n",
       "    </tr>\n",
       "  </thead>\n",
       "  <tbody>\n",
       "    <tr>\n",
       "      <th>8253</th>\n",
       "      <td>762.0</td>\n",
       "      <td>726.0</td>\n",
       "      <td>675.0</td>\n",
       "      <td>8253</td>\n",
       "    </tr>\n",
       "    <tr>\n",
       "      <th>8230</th>\n",
       "      <td>446.0</td>\n",
       "      <td>425.0</td>\n",
       "      <td>410.0</td>\n",
       "      <td>8279</td>\n",
       "    </tr>\n",
       "    <tr>\n",
       "      <th>8279</th>\n",
       "      <td>444.0</td>\n",
       "      <td>435.0</td>\n",
       "      <td>399.0</td>\n",
       "      <td>8230</td>\n",
       "    </tr>\n",
       "  </tbody>\n",
       "</table>\n",
       "</div>"
      ],
      "text/plain": [
       "         Expedia_Cleanliness  Expedia_RoomComfort  Expedia_HotelCondition  \\\n",
       "hotelID                                                                     \n",
       "8253                   762.0                726.0                   675.0   \n",
       "8230                   446.0                425.0                   410.0   \n",
       "8279                   444.0                435.0                   399.0   \n",
       "\n",
       "         hotelID  \n",
       "hotelID           \n",
       "8253        8253  \n",
       "8230        8279  \n",
       "8279        8230  "
      ]
     },
     "execution_count": 9,
     "metadata": {},
     "output_type": "execute_result"
    }
   ],
   "source": [
    "# Now for the Sum of all the scores on surveys\n",
    "df_sum = data_review.groupby('hotelID').sum()\n",
    "df_sum = df_sum.sort('Expedia_Cleanliness',ascending=False)\n",
    "df_sum['hotelID'] = df_count.index \n",
    "df_sum.head(3)"
   ]
  },
  {
   "cell_type": "code",
   "execution_count": 10,
   "metadata": {
    "collapsed": false
   },
   "outputs": [],
   "source": [
    "expedia_API_OSAT_score = pd.DataFrame()\n",
    "expedia_API_OSAT_score['Cleanliness_Average'] = df_sum['Expedia_Cleanliness']/ df_count['Expedia_Cleanliness']\n",
    "expedia_API_OSAT_score['RoomComfort_Average'] = df_sum['Expedia_RoomComfort']/ df_count['Expedia_RoomComfort']\n",
    "expedia_API_OSAT_score['HotelCondition_Average'] = df_sum['Expedia_HotelCondition']/ df_count['Expedia_HotelCondition']\n",
    "expedia_API_OSAT_score['Number_Of_Reviews'] = df_count['Expedia_HotelCondition']"
   ]
  },
  {
   "cell_type": "code",
   "execution_count": 11,
   "metadata": {
    "collapsed": false
   },
   "outputs": [
    {
     "name": "stderr",
     "output_type": "stream",
     "text": [
      "C:\\Users\\Jay Padhya\\Anaconda3\\New\\lib\\site-packages\\ipykernel\\__main__.py:2: FutureWarning: sort(columns=....) is deprecated, use sort_values(by=.....)\n",
      "  from ipykernel import kernelapp as app\n"
     ]
    }
   ],
   "source": [
    "expedia_API_OSAT_score['hotelID'] = expedia_API_OSAT_score.index\n",
    "expedia_API_OSAT_score = expedia_API_OSAT_score.sort('Number_Of_Reviews',ascending=False)"
   ]
  },
  {
   "cell_type": "code",
   "execution_count": 12,
   "metadata": {
    "collapsed": false
   },
   "outputs": [
    {
     "data": {
      "text/html": [
       "<div>\n",
       "<table border=\"1\" class=\"dataframe\">\n",
       "  <thead>\n",
       "    <tr style=\"text-align: right;\">\n",
       "      <th></th>\n",
       "      <th>Cleanliness_Average</th>\n",
       "      <th>RoomComfort_Average</th>\n",
       "      <th>HotelCondition_Average</th>\n",
       "      <th>Number_Of_Reviews</th>\n",
       "      <th>hotelID</th>\n",
       "    </tr>\n",
       "    <tr>\n",
       "      <th>hotelID</th>\n",
       "      <th></th>\n",
       "      <th></th>\n",
       "      <th></th>\n",
       "      <th></th>\n",
       "      <th></th>\n",
       "    </tr>\n",
       "  </thead>\n",
       "  <tbody>\n",
       "    <tr>\n",
       "      <th>8253</th>\n",
       "      <td>4.305085</td>\n",
       "      <td>4.101695</td>\n",
       "      <td>3.813559</td>\n",
       "      <td>177</td>\n",
       "      <td>8253</td>\n",
       "    </tr>\n",
       "    <tr>\n",
       "      <th>8279</th>\n",
       "      <td>3.700000</td>\n",
       "      <td>3.625000</td>\n",
       "      <td>3.325000</td>\n",
       "      <td>120</td>\n",
       "      <td>8279</td>\n",
       "    </tr>\n",
       "    <tr>\n",
       "      <th>8230</th>\n",
       "      <td>4.460000</td>\n",
       "      <td>4.250000</td>\n",
       "      <td>4.100000</td>\n",
       "      <td>100</td>\n",
       "      <td>8230</td>\n",
       "    </tr>\n",
       "  </tbody>\n",
       "</table>\n",
       "</div>"
      ],
      "text/plain": [
       "         Cleanliness_Average  RoomComfort_Average  HotelCondition_Average  \\\n",
       "hotelID                                                                     \n",
       "8253                4.305085             4.101695                3.813559   \n",
       "8279                3.700000             3.625000                3.325000   \n",
       "8230                4.460000             4.250000                4.100000   \n",
       "\n",
       "         Number_Of_Reviews  hotelID  \n",
       "hotelID                              \n",
       "8253                   177     8253  \n",
       "8279                   120     8279  \n",
       "8230                   100     8230  "
      ]
     },
     "execution_count": 12,
     "metadata": {},
     "output_type": "execute_result"
    }
   ],
   "source": [
    "expedia_API_OSAT_score.head(3)"
   ]
  },
  {
   "cell_type": "code",
   "execution_count": 13,
   "metadata": {
    "collapsed": false
   },
   "outputs": [],
   "source": [
    "expedia_API_OSAT_score['OSAT_SCORE'] = (expedia_API_OSAT_score['Cleanliness_Average'] + expedia_API_OSAT_score['RoomComfort_Average']+expedia_API_OSAT_score['HotelCondition_Average'])/3  "
   ]
  },
  {
   "cell_type": "code",
   "execution_count": 14,
   "metadata": {
    "collapsed": false
   },
   "outputs": [
    {
     "data": {
      "text/html": [
       "<div>\n",
       "<table border=\"1\" class=\"dataframe\">\n",
       "  <thead>\n",
       "    <tr style=\"text-align: right;\">\n",
       "      <th></th>\n",
       "      <th>Cleanliness_Average</th>\n",
       "      <th>RoomComfort_Average</th>\n",
       "      <th>HotelCondition_Average</th>\n",
       "      <th>Number_Of_Reviews</th>\n",
       "      <th>hotelID</th>\n",
       "      <th>OSAT_SCORE</th>\n",
       "    </tr>\n",
       "    <tr>\n",
       "      <th>hotelID</th>\n",
       "      <th></th>\n",
       "      <th></th>\n",
       "      <th></th>\n",
       "      <th></th>\n",
       "      <th></th>\n",
       "      <th></th>\n",
       "    </tr>\n",
       "  </thead>\n",
       "  <tbody>\n",
       "    <tr>\n",
       "      <th>8253</th>\n",
       "      <td>4.305085</td>\n",
       "      <td>4.101695</td>\n",
       "      <td>3.813559</td>\n",
       "      <td>177</td>\n",
       "      <td>8253</td>\n",
       "      <td>4.073446</td>\n",
       "    </tr>\n",
       "    <tr>\n",
       "      <th>8279</th>\n",
       "      <td>3.700000</td>\n",
       "      <td>3.625000</td>\n",
       "      <td>3.325000</td>\n",
       "      <td>120</td>\n",
       "      <td>8279</td>\n",
       "      <td>3.550000</td>\n",
       "    </tr>\n",
       "  </tbody>\n",
       "</table>\n",
       "</div>"
      ],
      "text/plain": [
       "         Cleanliness_Average  RoomComfort_Average  HotelCondition_Average  \\\n",
       "hotelID                                                                     \n",
       "8253                4.305085             4.101695                3.813559   \n",
       "8279                3.700000             3.625000                3.325000   \n",
       "\n",
       "         Number_Of_Reviews  hotelID  OSAT_SCORE  \n",
       "hotelID                                          \n",
       "8253                   177     8253    4.073446  \n",
       "8279                   120     8279    3.550000  "
      ]
     },
     "execution_count": 14,
     "metadata": {},
     "output_type": "execute_result"
    }
   ],
   "source": [
    "expedia_API_OSAT_score.head(2)"
   ]
  },
  {
   "cell_type": "code",
   "execution_count": 15,
   "metadata": {
    "collapsed": false
   },
   "outputs": [
    {
     "data": {
      "text/html": [
       "<div>\n",
       "<table border=\"1\" class=\"dataframe\">\n",
       "  <thead>\n",
       "    <tr style=\"text-align: right;\">\n",
       "      <th></th>\n",
       "      <th>Cleanliness_Average</th>\n",
       "      <th>RoomComfort_Average</th>\n",
       "      <th>HotelCondition_Average</th>\n",
       "      <th>Number_Of_Reviews</th>\n",
       "      <th>hotelID</th>\n",
       "      <th>OSAT_SCORE</th>\n",
       "    </tr>\n",
       "    <tr>\n",
       "      <th>hotelID</th>\n",
       "      <th></th>\n",
       "      <th></th>\n",
       "      <th></th>\n",
       "      <th></th>\n",
       "      <th></th>\n",
       "      <th></th>\n",
       "    </tr>\n",
       "  </thead>\n",
       "  <tbody>\n",
       "    <tr>\n",
       "      <th>8253</th>\n",
       "      <td>4.305085</td>\n",
       "      <td>4.101695</td>\n",
       "      <td>3.813559</td>\n",
       "      <td>177</td>\n",
       "      <td>8253</td>\n",
       "      <td>4.073446</td>\n",
       "    </tr>\n",
       "    <tr>\n",
       "      <th>8279</th>\n",
       "      <td>3.700000</td>\n",
       "      <td>3.625000</td>\n",
       "      <td>3.325000</td>\n",
       "      <td>120</td>\n",
       "      <td>8279</td>\n",
       "      <td>3.550000</td>\n",
       "    </tr>\n",
       "    <tr>\n",
       "      <th>8230</th>\n",
       "      <td>4.460000</td>\n",
       "      <td>4.250000</td>\n",
       "      <td>4.100000</td>\n",
       "      <td>100</td>\n",
       "      <td>8230</td>\n",
       "      <td>4.270000</td>\n",
       "    </tr>\n",
       "  </tbody>\n",
       "</table>\n",
       "</div>"
      ],
      "text/plain": [
       "         Cleanliness_Average  RoomComfort_Average  HotelCondition_Average  \\\n",
       "hotelID                                                                     \n",
       "8253                4.305085             4.101695                3.813559   \n",
       "8279                3.700000             3.625000                3.325000   \n",
       "8230                4.460000             4.250000                4.100000   \n",
       "\n",
       "         Number_Of_Reviews  hotelID  OSAT_SCORE  \n",
       "hotelID                                          \n",
       "8253                   177     8253    4.073446  \n",
       "8279                   120     8279    3.550000  \n",
       "8230                   100     8230    4.270000  "
      ]
     },
     "execution_count": 15,
     "metadata": {},
     "output_type": "execute_result"
    }
   ],
   "source": [
    "# We calculate the distribution of \n",
    "expedia_API_OSAT_score_df = expedia_API_OSAT_score[expedia_API_OSAT_score['Number_Of_Reviews']>4]\n",
    "expedia_API_OSAT_score_df.head(3)"
   ]
  },
  {
   "cell_type": "code",
   "execution_count": 16,
   "metadata": {
    "collapsed": false
   },
   "outputs": [],
   "source": [
    "bins = list(range(0,7,1))\n",
    "solution = pd.cut(expedia_API_OSAT_score_df['OSAT_SCORE'],bins, labels = list(range(0,6,1))).value_counts()\n",
    "soultion_df = pd.DataFrame({'Osat_Score':solution.index,'Number_Of_Reviews':solution.values})"
   ]
  },
  {
   "cell_type": "code",
   "execution_count": 18,
   "metadata": {
    "collapsed": false
   },
   "outputs": [
    {
     "data": {
      "text/plain": [
       "<matplotlib.axes._subplots.AxesSubplot at 0x2b03ca6b630>"
      ]
     },
     "execution_count": 18,
     "metadata": {},
     "output_type": "execute_result"
    },
    {
     "data": {
      "image/png": "[encoded data removed]",
      "text/plain": [
       "<matplotlib.figure.Figure at 0x2b025ccf358>"
      ]
     },
     "metadata": {},
     "output_type": "display_data"
    }
   ],
   "source": [
    "sns.set_style(\"whitegrid\")\n",
    "sns.barplot(x='Osat_Score',y ='Number_Of_Reviews',data=soultion_df )"
   ]
  },
  {
   "cell_type": "markdown",
   "metadata": {},
   "source": [
    "# Conclusion : We can see most of the ratings between 3 & 4 indicating many reviews are mostly neutral or promoters  "
   ]
  },
  {
   "cell_type": "code",
   "execution_count": null,
   "metadata": {
    "collapsed": true
   },
   "outputs": [],
   "source": [
    "expedia_API_OSAT_score.to_csv(\"expedia_API_OSAT_score.csv\")"
   ]
  },
  {
   "cell_type": "markdown",
   "metadata": {},
   "source": [
    "# ============================================"
   ]
  },
  {
   "cell_type": "markdown",
   "metadata": {},
   "source": [
    "# ANALYSIS B : \n",
    "\n",
    "Find **Hotel IDs** from **CSV** and collect reviews of hotels from **Expedia API key call** and **TripAdvisor web scraping.** (TripAdvisor does not provide API key for research hence I chose to scrape the data.)\n",
    "\n",
    "\n",
    "- This provides us with dataframe have Expedia's hotel Reviews,Cleanliness Scores,RoomComfort Score and HotelCondition Score for top hotels on basis of number of User comments. Then we will **combine reviews** from **Expedia** and **TripAdvisor** on **top 10** hotels and perform **Sentimental Analysis** for customers saying on both websites."
   ]
  },
  {
   "cell_type": "code",
   "execution_count": 19,
   "metadata": {
    "collapsed": false
   },
   "outputs": [
    {
     "name": "stderr",
     "output_type": "stream",
     "text": [
      "C:\\Users\\Jay Padhya\\Anaconda3\\New\\lib\\site-packages\\ipykernel\\__main__.py:2: FutureWarning: sort(columns=....) is deprecated, use sort_values(by=.....)\n",
      "  from ipykernel import kernelapp as app\n"
     ]
    },
    {
     "data": {
      "text/html": [
       "<div>\n",
       "<table border=\"1\" class=\"dataframe\">\n",
       "  <thead>\n",
       "    <tr style=\"text-align: right;\">\n",
       "      <th></th>\n",
       "      <th>Expedia_User_Comments</th>\n",
       "      <th>Expedia_Cleanliness</th>\n",
       "      <th>Expedia_RoomComfort</th>\n",
       "      <th>Expedia_HotelCondition</th>\n",
       "    </tr>\n",
       "    <tr>\n",
       "      <th>hotelID</th>\n",
       "      <th></th>\n",
       "      <th></th>\n",
       "      <th></th>\n",
       "      <th></th>\n",
       "    </tr>\n",
       "  </thead>\n",
       "  <tbody>\n",
       "    <tr>\n",
       "      <th>8253</th>\n",
       "      <td>177</td>\n",
       "      <td>177</td>\n",
       "      <td>177</td>\n",
       "      <td>177</td>\n",
       "    </tr>\n",
       "    <tr>\n",
       "      <th>8279</th>\n",
       "      <td>120</td>\n",
       "      <td>120</td>\n",
       "      <td>120</td>\n",
       "      <td>120</td>\n",
       "    </tr>\n",
       "    <tr>\n",
       "      <th>8230</th>\n",
       "      <td>100</td>\n",
       "      <td>100</td>\n",
       "      <td>100</td>\n",
       "      <td>100</td>\n",
       "    </tr>\n",
       "  </tbody>\n",
       "</table>\n",
       "</div>"
      ],
      "text/plain": [
       "         Expedia_User_Comments  Expedia_Cleanliness  Expedia_RoomComfort  \\\n",
       "hotelID                                                                    \n",
       "8253                       177                  177                  177   \n",
       "8279                       120                  120                  120   \n",
       "8230                       100                  100                  100   \n",
       "\n",
       "         Expedia_HotelCondition  \n",
       "hotelID                          \n",
       "8253                        177  \n",
       "8279                        120  \n",
       "8230                        100  "
      ]
     },
     "execution_count": 19,
     "metadata": {},
     "output_type": "execute_result"
    }
   ],
   "source": [
    "expedia_OSAT_count = data_review.groupby('hotelID').count()\n",
    "expedia_OSAT_count = expedia_OSAT_count.sort('Expedia_User_Comments',ascending = False)\n",
    "expedia_OSAT_count.head(3)"
   ]
  },
  {
   "cell_type": "code",
   "execution_count": 96,
   "metadata": {
    "collapsed": false
   },
   "outputs": [
    {
     "name": "stderr",
     "output_type": "stream",
     "text": [
      "C:\\Users\\Jay Padhya\\Anaconda3\\New\\lib\\site-packages\\ipykernel\\__main__.py:4: FutureWarning: sort(columns=....) is deprecated, use sort_values(by=.....)\n"
     ]
    },
    {
     "data": {
      "text/html": [
       "<div>\n",
       "<table border=\"1\" class=\"dataframe\">\n",
       "  <thead>\n",
       "    <tr style=\"text-align: right;\">\n",
       "      <th></th>\n",
       "      <th>Expedia_Cleanliness</th>\n",
       "      <th>Expedia_RoomComfort</th>\n",
       "      <th>Expedia_HotelCondition</th>\n",
       "      <th>hotelID</th>\n",
       "    </tr>\n",
       "    <tr>\n",
       "      <th>hotelID</th>\n",
       "      <th></th>\n",
       "      <th></th>\n",
       "      <th></th>\n",
       "      <th></th>\n",
       "    </tr>\n",
       "  </thead>\n",
       "  <tbody>\n",
       "    <tr>\n",
       "      <th>8253</th>\n",
       "      <td>762.0</td>\n",
       "      <td>726.0</td>\n",
       "      <td>675.0</td>\n",
       "      <td>8253</td>\n",
       "    </tr>\n",
       "    <tr>\n",
       "      <th>8230</th>\n",
       "      <td>446.0</td>\n",
       "      <td>425.0</td>\n",
       "      <td>410.0</td>\n",
       "      <td>8230</td>\n",
       "    </tr>\n",
       "    <tr>\n",
       "      <th>8279</th>\n",
       "      <td>444.0</td>\n",
       "      <td>435.0</td>\n",
       "      <td>399.0</td>\n",
       "      <td>8279</td>\n",
       "    </tr>\n",
       "  </tbody>\n",
       "</table>\n",
       "</div>"
      ],
      "text/plain": [
       "         Expedia_Cleanliness  Expedia_RoomComfort  Expedia_HotelCondition  \\\n",
       "hotelID                                                                     \n",
       "8253                   762.0                726.0                   675.0   \n",
       "8230                   446.0                425.0                   410.0   \n",
       "8279                   444.0                435.0                   399.0   \n",
       "\n",
       "         hotelID  \n",
       "hotelID           \n",
       "8253        8253  \n",
       "8230        8230  \n",
       "8279        8279  "
      ]
     },
     "execution_count": 96,
     "metadata": {},
     "output_type": "execute_result"
    }
   ],
   "source": [
    "# Because sum will add all the commnents in single row and not compute the sum for scores, we only take ccolumns we need\n",
    "data_review_sum = data_review[['hotelID','Expedia_Cleanliness','Expedia_RoomComfort','Expedia_HotelCondition']]\n",
    "expedia_OSAT_sum =  data_review_sum.groupby('hotelID').sum()\n",
    "expedia_OSAT_sum= expedia_OSAT_sum.sort('Expedia_Cleanliness',ascending = False)\n",
    "expedia_OSAT_sum['hotelID'] = expedia_OSAT_sum.index\n",
    "expedia_OSAT_sum.head(3)"
   ]
  },
  {
   "cell_type": "code",
   "execution_count": 106,
   "metadata": {
    "collapsed": false
   },
   "outputs": [
    {
     "data": {
      "text/html": [
       "<div>\n",
       "<table border=\"1\" class=\"dataframe\">\n",
       "  <thead>\n",
       "    <tr style=\"text-align: right;\">\n",
       "      <th></th>\n",
       "      <th>Cleanliness_Sum</th>\n",
       "      <th>Comfort_Sum</th>\n",
       "      <th>Condition_Sum</th>\n",
       "      <th>hotelID</th>\n",
       "    </tr>\n",
       "    <tr>\n",
       "      <th>hotelID</th>\n",
       "      <th></th>\n",
       "      <th></th>\n",
       "      <th></th>\n",
       "      <th></th>\n",
       "    </tr>\n",
       "  </thead>\n",
       "  <tbody>\n",
       "    <tr>\n",
       "      <th>8253</th>\n",
       "      <td>762.0</td>\n",
       "      <td>726.0</td>\n",
       "      <td>675.0</td>\n",
       "      <td>8253</td>\n",
       "    </tr>\n",
       "    <tr>\n",
       "      <th>8230</th>\n",
       "      <td>446.0</td>\n",
       "      <td>425.0</td>\n",
       "      <td>410.0</td>\n",
       "      <td>8230</td>\n",
       "    </tr>\n",
       "    <tr>\n",
       "      <th>8279</th>\n",
       "      <td>444.0</td>\n",
       "      <td>435.0</td>\n",
       "      <td>399.0</td>\n",
       "      <td>8279</td>\n",
       "    </tr>\n",
       "    <tr>\n",
       "      <th>8745</th>\n",
       "      <td>347.0</td>\n",
       "      <td>316.0</td>\n",
       "      <td>326.0</td>\n",
       "      <td>8745</td>\n",
       "    </tr>\n",
       "    <tr>\n",
       "      <th>12206</th>\n",
       "      <td>323.0</td>\n",
       "      <td>313.0</td>\n",
       "      <td>279.0</td>\n",
       "      <td>12206</td>\n",
       "    </tr>\n",
       "  </tbody>\n",
       "</table>\n",
       "</div>"
      ],
      "text/plain": [
       "         Cleanliness_Sum  Comfort_Sum  Condition_Sum  hotelID\n",
       "hotelID                                                      \n",
       "8253               762.0        726.0          675.0     8253\n",
       "8230               446.0        425.0          410.0     8230\n",
       "8279               444.0        435.0          399.0     8279\n",
       "8745               347.0        316.0          326.0     8745\n",
       "12206              323.0        313.0          279.0    12206"
      ]
     },
     "execution_count": 106,
     "metadata": {},
     "output_type": "execute_result"
    }
   ],
   "source": [
    "expedia_OSAT_sum = expedia_OSAT_sum.rename(index = str,columns = {\"Expedia_Cleanliness\":\"Cleanliness_Sum\",\"Expedia_RoomComfort\":\"Comfort_Sum\",\"Expedia_HotelCondition\":\"Condition_Sum\"} )\n",
    "expedia_OSAT_sum.head(5)\n",
    "expedia_OSAT_count = expedia_OSAT_count.rename(index = str,columns = {\"Expedia_Cleanliness\":\"Cleanliness_Sum\",\"Expedia_RoomComfort\":\"Comfort_Sum\",\"Expedia_HotelCondition\":\"Condition_Sum\"})"
   ]
  },
  {
   "cell_type": "code",
   "execution_count": 107,
   "metadata": {
    "collapsed": false
   },
   "outputs": [
    {
     "data": {
      "text/html": [
       "<div>\n",
       "<table border=\"1\" class=\"dataframe\">\n",
       "  <thead>\n",
       "    <tr style=\"text-align: right;\">\n",
       "      <th></th>\n",
       "      <th>Expedia_User_Comments</th>\n",
       "      <th>Cleanliness_Count</th>\n",
       "      <th>Expedia_RoomComfort</th>\n",
       "      <th>Expedia_HotelCondition</th>\n",
       "    </tr>\n",
       "    <tr>\n",
       "      <th>hotelID</th>\n",
       "      <th></th>\n",
       "      <th></th>\n",
       "      <th></th>\n",
       "      <th></th>\n",
       "    </tr>\n",
       "  </thead>\n",
       "  <tbody>\n",
       "    <tr>\n",
       "      <th>8253</th>\n",
       "      <td>177</td>\n",
       "      <td>177</td>\n",
       "      <td>177</td>\n",
       "      <td>177</td>\n",
       "    </tr>\n",
       "    <tr>\n",
       "      <th>8279</th>\n",
       "      <td>120</td>\n",
       "      <td>120</td>\n",
       "      <td>120</td>\n",
       "      <td>120</td>\n",
       "    </tr>\n",
       "    <tr>\n",
       "      <th>8230</th>\n",
       "      <td>100</td>\n",
       "      <td>100</td>\n",
       "      <td>100</td>\n",
       "      <td>100</td>\n",
       "    </tr>\n",
       "  </tbody>\n",
       "</table>\n",
       "</div>"
      ],
      "text/plain": [
       "         Expedia_User_Comments  Cleanliness_Count  Expedia_RoomComfort  \\\n",
       "hotelID                                                                  \n",
       "8253                       177                177                  177   \n",
       "8279                       120                120                  120   \n",
       "8230                       100                100                  100   \n",
       "\n",
       "         Expedia_HotelCondition  \n",
       "hotelID                          \n",
       "8253                        177  \n",
       "8279                        120  \n",
       "8230                        100  "
      ]
     },
     "execution_count": 107,
     "metadata": {},
     "output_type": "execute_result"
    }
   ],
   "source": [
    "expedia_OSAT_count.head(3)"
   ]
  },
  {
   "cell_type": "code",
   "execution_count": 10,
   "metadata": {
    "collapsed": false
   },
   "outputs": [
    {
     "data": {
      "text/html": [
       "<div>\n",
       "<table border=\"1\" class=\"dataframe\">\n",
       "  <thead>\n",
       "    <tr style=\"text-align: right;\">\n",
       "      <th></th>\n",
       "      <th>hotelID</th>\n",
       "      <th>Expedia_User_Comments</th>\n",
       "      <th>Expedia_Cleanliness</th>\n",
       "      <th>Expedia_RoomComfort</th>\n",
       "      <th>Expedia_HotelCondition</th>\n",
       "    </tr>\n",
       "  </thead>\n",
       "  <tbody>\n",
       "    <tr>\n",
       "      <th>0</th>\n",
       "      <td>893</td>\n",
       "      <td>Very clean and modern.  The staff were always...</td>\n",
       "      <td>5.0</td>\n",
       "      <td>5.0</td>\n",
       "      <td>5.0</td>\n",
       "    </tr>\n",
       "    <tr>\n",
       "      <th>1</th>\n",
       "      <td>893</td>\n",
       "      <td>Have stayed at many hotels in Daytona and Orm...</td>\n",
       "      <td>5.0</td>\n",
       "      <td>5.0</td>\n",
       "      <td>5.0</td>\n",
       "    </tr>\n",
       "    <tr>\n",
       "      <th>2</th>\n",
       "      <td>893</td>\n",
       "      <td>Beautiful ocean view and great pool!Parking i...</td>\n",
       "      <td>5.0</td>\n",
       "      <td>5.0</td>\n",
       "      <td>5.0</td>\n",
       "    </tr>\n",
       "    <tr>\n",
       "      <th>3</th>\n",
       "      <td>893</td>\n",
       "      <td>The staff was very helpful and they were all ...</td>\n",
       "      <td>5.0</td>\n",
       "      <td>5.0</td>\n",
       "      <td>5.0</td>\n",
       "    </tr>\n",
       "  </tbody>\n",
       "</table>\n",
       "</div>"
      ],
      "text/plain": [
       "   hotelID                              Expedia_User_Comments  \\\n",
       "0      893   Very clean and modern.  The staff were always...   \n",
       "1      893   Have stayed at many hotels in Daytona and Orm...   \n",
       "2      893   Beautiful ocean view and great pool!Parking i...   \n",
       "3      893   The staff was very helpful and they were all ...   \n",
       "\n",
       "   Expedia_Cleanliness  Expedia_RoomComfort  Expedia_HotelCondition  \n",
       "0                  5.0                  5.0                     5.0  \n",
       "1                  5.0                  5.0                     5.0  \n",
       "2                  5.0                  5.0                     5.0  \n",
       "3                  5.0                  5.0                     5.0  "
      ]
     },
     "execution_count": 10,
     "metadata": {},
     "output_type": "execute_result"
    }
   ],
   "source": [
    "data_review.head(4)"
   ]
  },
  {
   "cell_type": "code",
   "execution_count": 51,
   "metadata": {
    "collapsed": false
   },
   "outputs": [],
   "source": [
    "data_frame_Expedia_comments = data_review\n",
    "#data_frame_Expedia_comments['hotelID'] = data_frame_Expedia_comments.index\n",
    "expedia_all_comments = data_frame_Expedia_comments.loc[(data_frame_Expedia_comments['hotelID']==8253) | (data_frame_Expedia_comments['hotelID']==8279) |(data_frame_Expedia_comments['hotelID']==8230) |(data_frame_Expedia_comments['hotelID']==8745) |(data_frame_Expedia_comments['hotelID']==12206) |(data_frame_Expedia_comments['hotelID']==8267) |(data_frame_Expedia_comments['hotelID']==8268) |(data_frame_Expedia_comments['hotelID']==8278) |(data_frame_Expedia_comments['hotelID']==8250) |(data_frame_Expedia_comments['hotelID']==13316)]\n",
    "#expedia_all_comments   The table shows all the comments"
   ]
  },
  {
   "cell_type": "code",
   "execution_count": 10,
   "metadata": {
    "collapsed": false
   },
   "outputs": [
    {
     "name": "stderr",
     "output_type": "stream",
     "text": [
      "C:\\Users\\Jay Padhya\\Anaconda3\\New\\lib\\site-packages\\bs4\\__init__.py:181: UserWarning: No parser was explicitly specified, so I'm using the best available HTML parser for this system (\"lxml\"). This usually isn't a problem, but if you run this code on another system, or in a different virtual environment, it may use a different parser and behave differently.\n",
      "\n",
      "The code that caused this warning is on line 184 of the file C:\\Users\\Jay Padhya\\Anaconda3\\New\\lib\\runpy.py. To get rid of this warning, change code that looks like this:\n",
      "\n",
      " BeautifulSoup([your markup])\n",
      "\n",
      "to this:\n",
      "\n",
      " BeautifulSoup([your markup], \"lxml\")\n",
      "\n",
      "  markup_type=markup_type))\n"
     ]
    }
   ],
   "source": [
    "filepath = currentWD+\"/\"+\"TripAdvisor\\Artisan Hotel_Las Vegas_8253\\p*\"\n",
    "for files in glob.glob(filepath,recursive = True): #fetching values\n",
    "    artisan_hotel_las_vegas = BeautifulSoup(open(files,'r',encoding=\"utf8\").read())\n",
    "filepath = currentWD+\"/\"+\"TripAdvisor\\BEST_WESTERN_PLUS_California_West Hotel_8279\\p*\"\n",
    "for files in glob.glob(filepath,recursive = True): #fetching values\n",
    "    best_western = BeautifulSoup(open(files,'r',encoding=\"utf8\").read())\n",
    "filepath = currentWD+\"/\"+\"TripAdvisor\\Fairfield_VA_Mains_12206\\p*\"\n",
    "for files in glob.glob(filepath,recursive = True): #fetching values\n",
    "    fairfield_va_mains = BeautifulSoup(open(files,'r',encoding=\"utf8\").read())\n",
    "filepath = currentWD+\"/\"+\"TripAdvisor\\Fortune_Hotel_Suites_SNG_8230\\p*\"\n",
    "for files in glob.glob(filepath,recursive = True): #fetching values\n",
    "    fortune_suites = BeautifulSoup(open(files,'r',encoding=\"utf8\").read())\n",
    "filepath = currentWD+\"/\"+\"TripAdvisor\\Holiday_Inn_Express_South Hotel_8745\\p*\"\n",
    "for files in glob.glob(filepath,recursive = True): #fetching values\n",
    "    holiday_inn_express = BeautifulSoup(open(files,'r',encoding=\"utf8\").read())   \n",
    "filepath = currentWD+\"/\"+\"TripAdvisor\\Orchids_Hampton Inn_8267\\p*\"\n",
    "for files in glob.glob(filepath,recursive = True): #fetching values\n",
    "    orchids_hampton_inn = BeautifulSoup(open(files,'r',encoding=\"utf8\").read())\n",
    "filepath = currentWD+\"/\"+\"TripAdvisor\\Residence_Inn_Hughes_Hotel_8268\\p*\"\n",
    "for files in glob.glob(filepath,recursive = True): #fetching values\n",
    "    residence_inn_hughes = BeautifulSoup(open(files,'r',encoding=\"utf8\").read())  \n",
    "filepath = currentWD+\"/\"+\"TripAdvisor\\Royal Resorts_8278\\p*\"\n",
    "for files in glob.glob(filepath,recursive = True): #fetching values\n",
    "    royal_resorts = BeautifulSoup(open(files,'r',encoding=\"utf8\").read())\n",
    "filepath = currentWD+\"/\"+\"TripAdvisor\\Skylofts_MGMGrand Hotel_8250\\p*\"\n",
    "for files in glob.glob(filepath,recursive = True): #fetching values\n",
    "    skylofts_MGM_brand = BeautifulSoup(open(files,'r',encoding=\"utf8\").read()) \n",
    "filepath = currentWD+\"/\"+\"TripAdvisor\\Summerlin_Hotel_13316\\p*\"\n",
    "for files in glob.glob(filepath,recursive = True): #fetching values\n",
    "    summerlin_hotel = BeautifulSoup(open(files,'r',encoding=\"utf8\").read())"
   ]
  },
  {
   "cell_type": "code",
   "execution_count": null,
   "metadata": {
    "collapsed": false
   },
   "outputs": [],
   "source": [
    "artisan_hotel_las_vegas\n",
    "best_western\n",
    "fairfield_va_mains\n",
    "fortune_suites\n",
    "holiday_inn_express\n",
    "orchids_hampton_inn\n",
    "residence_inn_hughes\n",
    "royal_resorts\n",
    "skylofts_MGM_brand\n",
    "summerlin_hotel"
   ]
  },
  {
   "cell_type": "code",
   "execution_count": 12,
   "metadata": {
    "collapsed": false
   },
   "outputs": [],
   "source": [
    "# Function to free the text from all HTML tags \n",
    "def cleanhtml(raw_html):\n",
    "    cleanr = re.compile('<.*?>')\n",
    "    cleantext = re.sub(cleanr,' ', raw_html)\n",
    "    return cleantext"
   ]
  },
  {
   "cell_type": "code",
   "execution_count": 16,
   "metadata": {
    "collapsed": false
   },
   "outputs": [],
   "source": [
    "# Converting the Beautiful Soup Object to String, removing punctuations, Removing HTML Tags\n",
    "artisan_hotel_las_vegas = str(artisan_hotel_las_vegas)\n",
    "artisan_hotel_las_vegas = cleanhtml(artisan_hotel_las_vegas) \n",
    "no_punc_artisan_hotel_las_vegas = [c for c in artisan_hotel_las_vegas if c not in string.punctuation]\n",
    "no_punc_artisan_hotel_las_vegas =''.join(artisan_hotel_las_vegas)\n",
    "# Creating a data series and adding it to data frame with correct identifier\n",
    "seri1_data = pd.Series(no_punc_artisan_hotel_las_vegas)\n",
    "df_no_punc_artisan_hotel_las_vegas_8253 = pd.DataFrame(seri1_data,columns=['TripAdvisor Review'])\n",
    "df_no_punc_artisan_hotel_las_vegas_8253['hotelID'] = 8253"
   ]
  },
  {
   "cell_type": "code",
   "execution_count": 29,
   "metadata": {
    "collapsed": false
   },
   "outputs": [],
   "source": [
    "# Converting the Beautiful Soup Object to String, removing punctuations, Removing HTML Tags\n",
    "best_western = str(best_western)\n",
    "best_western = cleanhtml(best_western) \n",
    "no_punc_best_western = [c for c in best_western if c not in string.punctuation]\n",
    "no_punc_best_western =''.join(best_western)\n",
    "# Creating a data series and adding it to data frame with correct identifier\n",
    "seri1_data = pd.Series(no_punc_best_western)\n",
    "df_no_punc_best_western_8279 = pd.DataFrame(seri1_data,columns=['TripAdvisor Review'])\n",
    "df_no_punc_best_western_8279['hotelID'] = 8279\n",
    "final = df_no_punc_best_western_8279.merge(df_no_punc_artisan_hotel_las_vegas_8253, how = 'outer')"
   ]
  },
  {
   "cell_type": "code",
   "execution_count": 30,
   "metadata": {
    "collapsed": false
   },
   "outputs": [],
   "source": [
    "# Converting the Beautiful Soup Object to String, removing punctuations, Removing HTML Tags\n",
    "fairfield = str(fairfield_va_mains)\n",
    "fairfield = cleanhtml(fairfield) \n",
    "no_punc_fairfield = [c for c in fairfield if c not in string.punctuation]\n",
    "no_punc_fairfield =''.join(fairfield)\n",
    "# Creating a data series and adding it to data frame with correct identifier\n",
    "seri1_data = pd.Series(no_punc_fairfield)\n",
    "df_no_punc_fairfield_12206 = pd.DataFrame(seri1_data,columns=['TripAdvisor Review'])\n",
    "df_no_punc_fairfield_12206['hotelID'] = 12206\n",
    "df_no_punc_fairfield_12206\n",
    "final = final.merge(df_no_punc_fairfield_12206,how='outer')\n",
    "#final"
   ]
  },
  {
   "cell_type": "code",
   "execution_count": 31,
   "metadata": {
    "collapsed": false
   },
   "outputs": [],
   "source": [
    "# Converting the Beautiful Soup Object to String, removing punctuations, Removing HTML Tags\n",
    "fortune_suites = str(fortune_suites)\n",
    "fortune_suites = cleanhtml(fortune_suites) \n",
    "no_punc_fortune_suites = [c for c in fortune_suites if c not in string.punctuation]\n",
    "no_punc_fortune_suites =''.join(fortune_suites)\n",
    "# Creating a data series and adding it to data frame with correct identifier\n",
    "seri1_data = pd.Series(no_punc_fortune_suites)\n",
    "df_no_punc_fortune_suites_8230 = pd.DataFrame(seri1_data,columns=['TripAdvisor Review'])\n",
    "df_no_punc_fortune_suites_8230['hotelID'] = 8230\n",
    "final = final.merge(df_no_punc_fortune_suites_8230,how='outer')\n",
    "#final"
   ]
  },
  {
   "cell_type": "code",
   "execution_count": 32,
   "metadata": {
    "collapsed": false
   },
   "outputs": [],
   "source": [
    "# Converting the Beautiful Soup Object to String, removing punctuations, Removing HTML Tags\n",
    "holiday_inn_express = str(holiday_inn_express)\n",
    "holiday_inn_express = cleanhtml(holiday_inn_express) \n",
    "no_punc_holiday_inn_express = [c for c in holiday_inn_express if c not in string.punctuation]\n",
    "no_punc_holiday_inn_express =''.join(holiday_inn_express)\n",
    "# Creating a data series and adding it to data frame with correct identifier\n",
    "seri1_data = pd.Series(no_punc_holiday_inn_express)\n",
    "df_no_punc_fortune_suites_8745 = pd.DataFrame(seri1_data,columns=['TripAdvisor Review'])\n",
    "df_no_punc_fortune_suites_8745['hotelID'] = 8745\n",
    "df_no_punc_fortune_suites_8745\n",
    "final = final.merge(df_no_punc_fortune_suites_8745,how='outer')\n",
    "#final"
   ]
  },
  {
   "cell_type": "code",
   "execution_count": 33,
   "metadata": {
    "collapsed": false
   },
   "outputs": [],
   "source": [
    "# Converting the Beautiful Soup Object to String, removing punctuations, Removing HTML Tags\n",
    "holiday_inn_express = str(holiday_inn_express)\n",
    "holiday_inn_express = cleanhtml(holiday_inn_express) \n",
    "no_punc_holiday_inn_express = [c for c in holiday_inn_express if c not in string.punctuation]\n",
    "no_punc_holiday_inn_express =''.join(holiday_inn_express)\n",
    "# Creating a data series and adding it to data frame with correct identifier\n",
    "seri1_data = pd.Series(no_punc_holiday_inn_express)\n",
    "df_no_punc_holiday_inn_express_8745 = pd.DataFrame(seri1_data,columns=['TripAdvisor Review'])\n",
    "df_no_punc_holiday_inn_express_8745['hotelID'] = 8745\n",
    "df_no_punc_holiday_inn_express_8745\n",
    "final = final.merge(df_no_punc_holiday_inn_express_8745,how='outer')\n",
    "#final"
   ]
  },
  {
   "cell_type": "code",
   "execution_count": 34,
   "metadata": {
    "collapsed": false
   },
   "outputs": [],
   "source": [
    "# Converting the Beautiful Soup Object to String, removing punctuations, Removing HTML Tags\n",
    "orchid_8267 = str(orchids_hampton_inn)\n",
    "orchid_8267 = cleanhtml(orchid_8267) \n",
    "no_punc_orchid_8267 = [c for c in orchid_8267 if c not in string.punctuation]\n",
    "no_punc_orchid_8267 =''.join(orchid_8267)\n",
    "# Creating a data series and adding it to data frame with correct identifier\n",
    "seri1_data = pd.Series(no_punc_orchid_8267)\n",
    "df_no_punc_orchid_8267 = pd.DataFrame(seri1_data,columns=['TripAdvisor Review'])\n",
    "df_no_punc_orchid_8267['hotelID'] = 8267\n",
    "df_no_punc_orchid_8267\n",
    "final = final.merge(df_no_punc_orchid_8267,how='outer')\n",
    "#final"
   ]
  },
  {
   "cell_type": "code",
   "execution_count": 35,
   "metadata": {
    "collapsed": false
   },
   "outputs": [],
   "source": [
    "# Converting the Beautiful Soup Object to String, removing punctuations, Removing HTML Tags\n",
    "residence_inn = str(residence_inn_hughes)\n",
    "residence_inn = cleanhtml(residence_inn) \n",
    "no_punc_residence_inn = [c for c in residence_inn if c not in string.punctuation]\n",
    "no_punc_residence_inn =''.join(residence_inn)\n",
    "# Creating a data series and adding it to data frame with correct identifier\n",
    "seri1_data = pd.Series(no_punc_residence_inn)\n",
    "df_no_punc_residence_inn_8268 = pd.DataFrame(seri1_data,columns=['TripAdvisor Review'])\n",
    "df_no_punc_residence_inn_8268['hotelID'] = 8268\n",
    "df_no_punc_residence_inn_8268\n",
    "final = final.merge(df_no_punc_residence_inn_8268,how='outer')\n",
    "#final"
   ]
  },
  {
   "cell_type": "code",
   "execution_count": 36,
   "metadata": {
    "collapsed": false
   },
   "outputs": [],
   "source": [
    "# Converting the Beautiful Soup Object to String, removing punctuations, Removing HTML Tags\n",
    "royal_resorts = str(royal_resorts)\n",
    "royal_resorts = cleanhtml(royal_resorts) \n",
    "no_punc_royal_resorts = [c for c in royal_resorts if c not in string.punctuation]\n",
    "no_punc_royal_resorts =''.join(royal_resorts)\n",
    "# Creating a data series and adding it to data frame with correct identifier\n",
    "seri1_data = pd.Series(no_punc_royal_resorts)\n",
    "df_no_punc_royal_resorts_8278 = pd.DataFrame(seri1_data,columns=['TripAdvisor Review'])\n",
    "df_no_punc_royal_resorts_8278['hotelID'] = 8278\n",
    "df_no_punc_royal_resorts_8278\n",
    "final = final.merge(df_no_punc_royal_resorts_8278,how='outer')\n",
    "#final"
   ]
  },
  {
   "cell_type": "code",
   "execution_count": 37,
   "metadata": {
    "collapsed": false
   },
   "outputs": [],
   "source": [
    "# Converting the Beautiful Soup Object to String, removing punctuations, Removing HTML Tags\n",
    "royal_resorts = str(royal_resorts)\n",
    "royal_resorts = cleanhtml(royal_resorts) \n",
    "no_punc_royal_resorts = [c for c in royal_resorts if c not in string.punctuation]\n",
    "no_punc_royal_resorts =''.join(royal_resorts)\n",
    "# Creating a data series and adding it to data frame with correct identifier\n",
    "seri1_data = pd.Series(no_punc_royal_resorts)\n",
    "df_no_punc_royal_resorts_8278 = pd.DataFrame(seri1_data,columns=['TripAdvisor Review'])\n",
    "df_no_punc_royal_resorts_8278['hotelID'] = 8278\n",
    "df_no_punc_royal_resorts_8278\n",
    "final = final.merge(df_no_punc_royal_resorts_8278,how='outer')\n",
    "#final"
   ]
  },
  {
   "cell_type": "code",
   "execution_count": 38,
   "metadata": {
    "collapsed": false
   },
   "outputs": [],
   "source": [
    "# Converting the Beautiful Soup Object to String, removing punctuations, Removing HTML Tags\n",
    "skylofts_MGM_brand = str(skylofts_MGM_brand)\n",
    "skylofts_MGM_brand = cleanhtml(skylofts_MGM_brand) \n",
    "no_punc_skylofts_MGM_brand = [c for c in skylofts_MGM_brand if c not in string.punctuation]\n",
    "no_punc_skylofts_MGM_brand =''.join(skylofts_MGM_brand)\n",
    "# Creating a data series and adding it to data frame with correct identifier\n",
    "seri1_data = pd.Series(no_punc_skylofts_MGM_brand)\n",
    "df_no_punc_skylofts_MGM_brand_8250 = pd.DataFrame(seri1_data,columns=['TripAdvisor Review'])\n",
    "df_no_punc_skylofts_MGM_brand_8250['hotelID'] = 8250\n",
    "df_no_punc_skylofts_MGM_brand_8250\n",
    "final = final.merge(df_no_punc_skylofts_MGM_brand_8250,how='outer')\n",
    "#final"
   ]
  },
  {
   "cell_type": "code",
   "execution_count": 39,
   "metadata": {
    "collapsed": false
   },
   "outputs": [],
   "source": [
    "# Converting the Beautiful Soup Object to String, removing punctuations, Removing HTML Tags\n",
    "Summerlin_Hotel = str(summerlin_hotel)\n",
    "Summerlin_Hotel = cleanhtml(Summerlin_Hotel) \n",
    "no_punc_Summerlin_Hotel = [c for c in Summerlin_Hotel if c not in string.punctuation]\n",
    "no_punc_Summerlin_Hotel =''.join(Summerlin_Hotel)\n",
    "# Creating a data series and adding it to data frame with correct identifier\n",
    "seri1_data = pd.Series(no_punc_Summerlin_Hotel)\n",
    "df_no_punc_Summerlin_Hotel_13316 = pd.DataFrame(seri1_data,columns=['TripAdvisor Review'])\n",
    "df_no_punc_Summerlin_Hotel_13316['hotelID'] = 13316\n",
    "#df_no_punc_Summerlin_Hotel_13316\n",
    "final = final.merge(df_no_punc_Summerlin_Hotel_13316,how='outer')"
   ]
  },
  {
   "cell_type": "code",
   "execution_count": 40,
   "metadata": {
    "collapsed": false
   },
   "outputs": [],
   "source": [
    "tripadvisor_reviews = final"
   ]
  },
  {
   "cell_type": "code",
   "execution_count": 148,
   "metadata": {
    "collapsed": false
   },
   "outputs": [
    {
     "data": {
      "text/html": [
       "<div>\n",
       "<table border=\"1\" class=\"dataframe\">\n",
       "  <thead>\n",
       "    <tr style=\"text-align: right;\">\n",
       "      <th></th>\n",
       "      <th>hotelID</th>\n",
       "      <th>Expedia_User_Comments</th>\n",
       "      <th>TripAdvisor Review</th>\n",
       "    </tr>\n",
       "  </thead>\n",
       "  <tbody>\n",
       "    <tr>\n",
       "      <th>0</th>\n",
       "      <td>8230</td>\n",
       "      <td>Hotel was in a good location close to town, h...</td>\n",
       "      <td>Fortune Hotel &amp;amp; Suites, Las Vegas Rev...</td>\n",
       "    </tr>\n",
       "    <tr>\n",
       "      <th>1</th>\n",
       "      <td>8250</td>\n",
       "      <td>Stayed in Battle Creek for the night, neede...</td>\n",
       "      <td>Skylofts at MGM Grand Hotel, Las Vegas Re...</td>\n",
       "    </tr>\n",
       "    <tr>\n",
       "      <th>2</th>\n",
       "      <td>8253</td>\n",
       "      <td>Even though we arrived at 8:30AM, the staff w...</td>\n",
       "      <td>Artisan Hotel, Las Vegas Reviews Page 9  ...</td>\n",
       "    </tr>\n",
       "    <tr>\n",
       "      <th>3</th>\n",
       "      <td>8267</td>\n",
       "      <td>could not rest on this softer mattresstold ...</td>\n",
       "      <td>Hampton Inn Las Vegas/Summerlin Hotel Rev...</td>\n",
       "    </tr>\n",
       "    <tr>\n",
       "      <th>4</th>\n",
       "      <td>8268</td>\n",
       "      <td>Stayed for thanksgiving holiday, The entire...</td>\n",
       "      <td>Residence Inn Las Vegas Hughes Center Hot...</td>\n",
       "    </tr>\n",
       "    <tr>\n",
       "      <th>5</th>\n",
       "      <td>8278</td>\n",
       "      <td>Staff is very nice.  Hotel is dated and mus...</td>\n",
       "      <td>Royal Resort, Las Vegas Reviews Page 9  G...</td>\n",
       "    </tr>\n",
       "    <tr>\n",
       "      <th>6</th>\n",
       "      <td>8279</td>\n",
       "      <td>Paid cash for my room.they turned around and ...</td>\n",
       "      <td>BEST WESTERN PLUS Las Vegas West Hotel Re...</td>\n",
       "    </tr>\n",
       "    <tr>\n",
       "      <th>7</th>\n",
       "      <td>8745</td>\n",
       "      <td>Good location right off Metro at Grands Blvd ...</td>\n",
       "      <td>Holiday Inn Express Las Vegas South Hotel...</td>\n",
       "    </tr>\n",
       "    <tr>\n",
       "      <th>8</th>\n",
       "      <td>12206</td>\n",
       "      <td>The room as expected for this type of hotel t...</td>\n",
       "      <td>Fairfield Inn Las Vegas Airport Hotel Rev...</td>\n",
       "    </tr>\n",
       "    <tr>\n",
       "      <th>9</th>\n",
       "      <td>13316</td>\n",
       "      <td>This was the first time I reserved a condo th...</td>\n",
       "      <td>Hampton Inn &amp;amp; Suites Las Vegas-Red Ro...</td>\n",
       "    </tr>\n",
       "  </tbody>\n",
       "</table>\n",
       "</div>"
      ],
      "text/plain": [
       "   hotelID                              Expedia_User_Comments  \\\n",
       "0     8230   Hotel was in a good location close to town, h...   \n",
       "1     8250     Stayed in Battle Creek for the night, neede...   \n",
       "2     8253   Even though we arrived at 8:30AM, the staff w...   \n",
       "3     8267     could not rest on this softer mattresstold ...   \n",
       "4     8268     Stayed for thanksgiving holiday, The entire...   \n",
       "5     8278     Staff is very nice.  Hotel is dated and mus...   \n",
       "6     8279   Paid cash for my room.they turned around and ...   \n",
       "7     8745   Good location right off Metro at Grands Blvd ...   \n",
       "8    12206   The room as expected for this type of hotel t...   \n",
       "9    13316   This was the first time I reserved a condo th...   \n",
       "\n",
       "                                  TripAdvisor Review  \n",
       "0       Fortune Hotel &amp; Suites, Las Vegas Rev...  \n",
       "1       Skylofts at MGM Grand Hotel, Las Vegas Re...  \n",
       "2       Artisan Hotel, Las Vegas Reviews Page 9  ...  \n",
       "3       Hampton Inn Las Vegas/Summerlin Hotel Rev...  \n",
       "4       Residence Inn Las Vegas Hughes Center Hot...  \n",
       "5       Royal Resort, Las Vegas Reviews Page 9  G...  \n",
       "6       BEST WESTERN PLUS Las Vegas West Hotel Re...  \n",
       "7       Holiday Inn Express Las Vegas South Hotel...  \n",
       "8       Fairfield Inn Las Vegas Airport Hotel Rev...  \n",
       "9       Hampton Inn &amp; Suites Las Vegas-Red Ro...  "
      ]
     },
     "execution_count": 148,
     "metadata": {},
     "output_type": "execute_result"
    }
   ],
   "source": [
    "comments_merge = pd.merge(expedia_all_comments,tripadvisor_reviews,how='outer',on='hotelID')\n",
    "comments_merge = comments_merge[['hotelID','Expedia_User_Comments','TripAdvisor Review']]\n",
    "comments_merge"
   ]
  },
  {
   "cell_type": "markdown",
   "metadata": {},
   "source": [
    "# Analysis 3 : To Perform Sentimental Analysis for Top hotels across both the websites and find the sentiments for each of the reveiws\n",
    "\n",
    "** STEP 1 **\n",
    "- Using the above dataframes and passing the data to NLTK API for determining the scores and overall sentiments for top hotels "
   ]
  },
  {
   "cell_type": "code",
   "execution_count": 367,
   "metadata": {
    "collapsed": false
   },
   "outputs": [],
   "source": [
    "tripadvisor_senti_score = comments_merge[['hotelID','TripAdvisor Review']]\n",
    "tripadvisor_senti_score_8230 = tripadvisor_senti_score.loc[tripadvisor_senti_score['hotelID']==8230]\n",
    "tripadvisor_senti_score_8250 = tripadvisor_senti_score.loc[tripadvisor_senti_score['hotelID']==8250]\n",
    "tripadvisor_senti_score_8253 = tripadvisor_senti_score.loc[tripadvisor_senti_score['hotelID']==8253]\n",
    "tripadvisor_senti_score_8267 = tripadvisor_senti_score.loc[tripadvisor_senti_score['hotelID']==8267]\n",
    "tripadvisor_senti_score_8268 = tripadvisor_senti_score.loc[tripadvisor_senti_score['hotelID']==8268]\n",
    "tripadvisor_senti_score_8278 = tripadvisor_senti_score.loc[tripadvisor_senti_score['hotelID']==8278]\n",
    "tripadvisor_senti_score_8279 = tripadvisor_senti_score.loc[tripadvisor_senti_score['hotelID']==8279]\n",
    "tripadvisor_senti_score_8745 = tripadvisor_senti_score.loc[tripadvisor_senti_score['hotelID']==8745]\n",
    "tripadvisor_senti_score_12206 = tripadvisor_senti_score.loc[tripadvisor_senti_score['hotelID']==12206]\n",
    "tripadvisor_senti_score_13316 = tripadvisor_senti_score.loc[tripadvisor_senti_score['hotelID']==13316]\n",
    "data = tripadvisor_senti_score_8230['TripAdvisor Review']\n",
    "data1 = tripadvisor_senti_score_8250['TripAdvisor Review']\n",
    "data2 = tripadvisor_senti_score_8253['TripAdvisor Review']\n",
    "data3 = tripadvisor_senti_score_8267['TripAdvisor Review']\n",
    "data4 = tripadvisor_senti_score_8268['TripAdvisor Review']\n",
    "data5 = tripadvisor_senti_score_8278['TripAdvisor Review']\n",
    "data6 = tripadvisor_senti_score_8279['TripAdvisor Review']\n",
    "data7 = tripadvisor_senti_score_8745['TripAdvisor Review']\n",
    "data8 = tripadvisor_senti_score_12206['TripAdvisor Review']\n",
    "data9 = tripadvisor_senti_score_13316['TripAdvisor Review']"
   ]
  },
  {
   "cell_type": "code",
   "execution_count": 410,
   "metadata": {
    "collapsed": false
   },
   "outputs": [],
   "source": [
    "data = urllib.parse.urlencode({\"text\": data9}) \n",
    "r = requests.post(\"http://text-processing.com/api/sentiment/\",data)\n",
    "sentiment_artisaan = r.text"
   ]
  },
  {
   "cell_type": "code",
   "execution_count": 411,
   "metadata": {
    "collapsed": false
   },
   "outputs": [],
   "source": [
    "list_text = sentiment_artisaan.split()"
   ]
  },
  {
   "cell_type": "code",
   "execution_count": 412,
   "metadata": {
    "collapsed": false
   },
   "outputs": [
    {
     "name": "stdout",
     "output_type": "stream",
     "text": [
      "0.5328529428068649\n",
      "0.88346269714493442\n",
      "0.4671470571931351\n",
      "\"neutral\"\n"
     ]
    }
   ],
   "source": [
    "def sentiment_score(text_for_senti_score):\n",
    "    list_text =  text_for_senti_score.split()\n",
    "    neg_score = list_text[2]\n",
    "    neg_score = neg_score.replace(\",\",\"\")\n",
    "    neutral_score = list_text[4]\n",
    "    neutral_score = neutral_score.replace(\",\",\"\")\n",
    "    pos_score = list_text[6]\n",
    "    pos_score = pos_score.replace(\",\",\"\")\n",
    "    pos_score = pos_score.replace(\"}\",\"\")\n",
    "    osat_label = list_text[8]\n",
    "    osat_label = osat_label.replace(\"}\",\"\") \n",
    "    return neg_score,neutral_score,pos_score,osat_label\n",
    "    \n",
    "text_review = sentiment_score(sentiment_artisaan)  \n",
    "for x in text_review:\n",
    "    print((x))"
   ]
  },
  {
   "cell_type": "code",
   "execution_count": 413,
   "metadata": {
    "collapsed": false
   },
   "outputs": [
    {
     "data": {
      "text/html": [
       "<div>\n",
       "<table border=\"1\" class=\"dataframe\">\n",
       "  <thead>\n",
       "    <tr style=\"text-align: right;\">\n",
       "      <th></th>\n",
       "      <th>hotelID</th>\n",
       "      <th>TripAdvisor Review</th>\n",
       "      <th>Trip_neg_score</th>\n",
       "      <th>Trip_neut_score</th>\n",
       "      <th>Trip_pos_score</th>\n",
       "      <th>Trip_osat_label</th>\n",
       "    </tr>\n",
       "  </thead>\n",
       "  <tbody>\n",
       "    <tr>\n",
       "      <th>0</th>\n",
       "      <td>8230</td>\n",
       "      <td>Fortune Hotel &amp;amp; Suites, Las Vegas Rev...</td>\n",
       "      <td>0.57644406213452526</td>\n",
       "      <td>0.46288796932487891</td>\n",
       "      <td>0.4235559378654748</td>\n",
       "      <td>\"neg\"</td>\n",
       "    </tr>\n",
       "    <tr>\n",
       "      <th>1</th>\n",
       "      <td>8250</td>\n",
       "      <td>Skylofts at MGM Grand Hotel, Las Vegas Re...</td>\n",
       "      <td>0.46084882864513166</td>\n",
       "      <td>0.51975528254052261</td>\n",
       "      <td>0.53915117135486834</td>\n",
       "      <td>pos</td>\n",
       "    </tr>\n",
       "    <tr>\n",
       "      <th>2</th>\n",
       "      <td>8253</td>\n",
       "      <td>Artisan Hotel, Las Vegas Reviews Page 9  ...</td>\n",
       "      <td>0.59784967710264247</td>\n",
       "      <td>0.87718311597908605</td>\n",
       "      <td>0.40215032289735747</td>\n",
       "      <td>\"neutral\"</td>\n",
       "    </tr>\n",
       "    <tr>\n",
       "      <th>3</th>\n",
       "      <td>8267</td>\n",
       "      <td>Hampton Inn Las Vegas/Summerlin Hotel Rev...</td>\n",
       "      <td>0.4769793044685704</td>\n",
       "      <td>0.89009421277786016</td>\n",
       "      <td>0.5230206955314296</td>\n",
       "      <td>\"neutral\"</td>\n",
       "    </tr>\n",
       "    <tr>\n",
       "      <th>4</th>\n",
       "      <td>8268</td>\n",
       "      <td>Residence Inn Las Vegas Hughes Center Hot...</td>\n",
       "      <td>0.55089621341591488</td>\n",
       "      <td>0.72506910879172215</td>\n",
       "      <td>0.44910378658408512</td>\n",
       "      <td>\"neutral\"</td>\n",
       "    </tr>\n",
       "    <tr>\n",
       "      <th>5</th>\n",
       "      <td>8278</td>\n",
       "      <td>Royal Resort, Las Vegas Reviews Page 9  G...</td>\n",
       "      <td>0.54947763967657171</td>\n",
       "      <td>0.9176243607801009</td>\n",
       "      <td>0.45052236032342824</td>\n",
       "      <td>\"neutral\"</td>\n",
       "    </tr>\n",
       "    <tr>\n",
       "      <th>6</th>\n",
       "      <td>8279</td>\n",
       "      <td>BEST WESTERN PLUS Las Vegas West Hotel Re...</td>\n",
       "      <td>0.29360278306881904</td>\n",
       "      <td>0.7574035254754975</td>\n",
       "      <td>0.70639721693118096</td>\n",
       "      <td>\"neutral\"</td>\n",
       "    </tr>\n",
       "    <tr>\n",
       "      <th>7</th>\n",
       "      <td>8745</td>\n",
       "      <td>Holiday Inn Express Las Vegas South Hotel...</td>\n",
       "      <td>0.50885406966184354</td>\n",
       "      <td>0.95463060141570921</td>\n",
       "      <td>0.49114593033815646</td>\n",
       "      <td>\"neutral\"</td>\n",
       "    </tr>\n",
       "    <tr>\n",
       "      <th>8</th>\n",
       "      <td>12206</td>\n",
       "      <td>Fairfield Inn Las Vegas Airport Hotel Rev...</td>\n",
       "      <td>0.57160174942663644</td>\n",
       "      <td>0.89656269120307674</td>\n",
       "      <td>0.42839825057336356</td>\n",
       "      <td>\"neutral\"</td>\n",
       "    </tr>\n",
       "    <tr>\n",
       "      <th>9</th>\n",
       "      <td>13316</td>\n",
       "      <td>Hampton Inn &amp;amp; Suites Las Vegas-Red Ro...</td>\n",
       "      <td>0.5328529428068649</td>\n",
       "      <td>0.88346269714493442</td>\n",
       "      <td>0.4671470571931351</td>\n",
       "      <td>\"neutral\"</td>\n",
       "    </tr>\n",
       "  </tbody>\n",
       "</table>\n",
       "</div>"
      ],
      "text/plain": [
       "   hotelID                                 TripAdvisor Review  \\\n",
       "0     8230       Fortune Hotel &amp; Suites, Las Vegas Rev...   \n",
       "1     8250       Skylofts at MGM Grand Hotel, Las Vegas Re...   \n",
       "2     8253       Artisan Hotel, Las Vegas Reviews Page 9  ...   \n",
       "3     8267       Hampton Inn Las Vegas/Summerlin Hotel Rev...   \n",
       "4     8268       Residence Inn Las Vegas Hughes Center Hot...   \n",
       "5     8278       Royal Resort, Las Vegas Reviews Page 9  G...   \n",
       "6     8279       BEST WESTERN PLUS Las Vegas West Hotel Re...   \n",
       "7     8745       Holiday Inn Express Las Vegas South Hotel...   \n",
       "8    12206       Fairfield Inn Las Vegas Airport Hotel Rev...   \n",
       "9    13316       Hampton Inn &amp; Suites Las Vegas-Red Ro...   \n",
       "\n",
       "        Trip_neg_score      Trip_neut_score       Trip_pos_score  \\\n",
       "0  0.57644406213452526  0.46288796932487891   0.4235559378654748   \n",
       "1  0.46084882864513166  0.51975528254052261  0.53915117135486834   \n",
       "2  0.59784967710264247  0.87718311597908605  0.40215032289735747   \n",
       "3   0.4769793044685704  0.89009421277786016   0.5230206955314296   \n",
       "4  0.55089621341591488  0.72506910879172215  0.44910378658408512   \n",
       "5  0.54947763967657171   0.9176243607801009  0.45052236032342824   \n",
       "6  0.29360278306881904   0.7574035254754975  0.70639721693118096   \n",
       "7  0.50885406966184354  0.95463060141570921  0.49114593033815646   \n",
       "8  0.57160174942663644  0.89656269120307674  0.42839825057336356   \n",
       "9   0.5328529428068649  0.88346269714493442   0.4671470571931351   \n",
       "\n",
       "  Trip_osat_label  \n",
       "0           \"neg\"  \n",
       "1             pos  \n",
       "2       \"neutral\"  \n",
       "3       \"neutral\"  \n",
       "4       \"neutral\"  \n",
       "5       \"neutral\"  \n",
       "6       \"neutral\"  \n",
       "7       \"neutral\"  \n",
       "8       \"neutral\"  \n",
       "9       \"neutral\"  "
      ]
     },
     "execution_count": 413,
     "metadata": {},
     "output_type": "execute_result"
    }
   ],
   "source": [
    "tripadvisor_senti_score.iloc[9,2] = text_review[0]\n",
    "tripadvisor_senti_score.iloc[9,3] = text_review[1]\n",
    "tripadvisor_senti_score.iloc[9,4] = text_review[2]\n",
    "tripadvisor_senti_score.iloc[9,5] = text_review[3]\n",
    "tripadvisor_senti_score = tripadvisor_senti_score \n",
    "tripadvisor_senti_score"
   ]
  },
  {
   "cell_type": "code",
   "execution_count": 325,
   "metadata": {
    "collapsed": false
   },
   "outputs": [
    {
     "data": {
      "text/html": [
       "<div>\n",
       "<table border=\"1\" class=\"dataframe\">\n",
       "  <thead>\n",
       "    <tr style=\"text-align: right;\">\n",
       "      <th></th>\n",
       "      <th>hotelID</th>\n",
       "      <th>Expedia_User_Comments</th>\n",
       "      <th>Expedia_neg_score</th>\n",
       "      <th>Expedia_neut_score</th>\n",
       "      <th>Expedia_pos_score</th>\n",
       "      <th>Expedia_osat_label</th>\n",
       "    </tr>\n",
       "  </thead>\n",
       "  <tbody>\n",
       "    <tr>\n",
       "      <th>0</th>\n",
       "      <td>8230</td>\n",
       "      <td>Hotel was in a good location close to town, h...</td>\n",
       "      <td>0.67068433196569921</td>\n",
       "      <td>0.8992417553072708</td>\n",
       "      <td>0.32931566803430085</td>\n",
       "      <td>\"neutral\"</td>\n",
       "    </tr>\n",
       "    <tr>\n",
       "      <th>1</th>\n",
       "      <td>8250</td>\n",
       "      <td>Stayed in Battle Creek for the night, neede...</td>\n",
       "      <td>0.63492114236923758</td>\n",
       "      <td>0.95168601085597793</td>\n",
       "      <td>0.36507885763076242</td>\n",
       "      <td>\"neutral\"</td>\n",
       "    </tr>\n",
       "    <tr>\n",
       "      <th>2</th>\n",
       "      <td>8253</td>\n",
       "      <td>Even though we arrived at 8:30AM, the staff w...</td>\n",
       "      <td>0.60506369410644789</td>\n",
       "      <td>0.72934490458291157</td>\n",
       "      <td>0.39493630589355211</td>\n",
       "      <td>\"neutral\"</td>\n",
       "    </tr>\n",
       "    <tr>\n",
       "      <th>3</th>\n",
       "      <td>8267</td>\n",
       "      <td>could not rest on this softer mattresstold ...</td>\n",
       "      <td>0.67404197433277524</td>\n",
       "      <td>0.75005721846387718</td>\n",
       "      <td>0.32595802566722476</td>\n",
       "      <td>\"neutral\"</td>\n",
       "    </tr>\n",
       "    <tr>\n",
       "      <th>4</th>\n",
       "      <td>8268</td>\n",
       "      <td>Stayed for thanksgiving holiday, The entire...</td>\n",
       "      <td>0.70544618303877971</td>\n",
       "      <td>0.60962251948336343</td>\n",
       "      <td>0.29455381696122029</td>\n",
       "      <td>neg</td>\n",
       "    </tr>\n",
       "    <tr>\n",
       "      <th>5</th>\n",
       "      <td>8278</td>\n",
       "      <td>Staff is very nice.  Hotel is dated and mus...</td>\n",
       "      <td>0.3623069653994927</td>\n",
       "      <td>0.53181573235669799</td>\n",
       "      <td>0.6376930346005073</td>\n",
       "      <td>pos</td>\n",
       "    </tr>\n",
       "    <tr>\n",
       "      <th>6</th>\n",
       "      <td>8279</td>\n",
       "      <td>Paid cash for my room.they turned around and ...</td>\n",
       "      <td>0.67411266340180664</td>\n",
       "      <td>0.96701643260194547</td>\n",
       "      <td>0.3258873365981933</td>\n",
       "      <td>\"neutral\"</td>\n",
       "    </tr>\n",
       "    <tr>\n",
       "      <th>7</th>\n",
       "      <td>8745</td>\n",
       "      <td>Good location right off Metro at Grands Blvd ...</td>\n",
       "      <td>0.49435246843382086</td>\n",
       "      <td>0.5933397710992574</td>\n",
       "      <td>0.50564753156617914</td>\n",
       "      <td>\"neutral\"</td>\n",
       "    </tr>\n",
       "    <tr>\n",
       "      <th>8</th>\n",
       "      <td>12206</td>\n",
       "      <td>The room as expected for this type of hotel t...</td>\n",
       "      <td>0.72160078371726166</td>\n",
       "      <td>0.56127887075029126</td>\n",
       "      <td>0.27839921628273834</td>\n",
       "      <td>neg</td>\n",
       "    </tr>\n",
       "    <tr>\n",
       "      <th>9</th>\n",
       "      <td>13316</td>\n",
       "      <td>This was the first time I reserved a condo th...</td>\n",
       "      <td>0.58461648896032725</td>\n",
       "      <td>0.30336327530308144</td>\n",
       "      <td>0.41538351103967275</td>\n",
       "      <td>neg</td>\n",
       "    </tr>\n",
       "  </tbody>\n",
       "</table>\n",
       "</div>"
      ],
      "text/plain": [
       "   hotelID                              Expedia_User_Comments  \\\n",
       "0     8230   Hotel was in a good location close to town, h...   \n",
       "1     8250     Stayed in Battle Creek for the night, neede...   \n",
       "2     8253   Even though we arrived at 8:30AM, the staff w...   \n",
       "3     8267     could not rest on this softer mattresstold ...   \n",
       "4     8268     Stayed for thanksgiving holiday, The entire...   \n",
       "5     8278     Staff is very nice.  Hotel is dated and mus...   \n",
       "6     8279   Paid cash for my room.they turned around and ...   \n",
       "7     8745   Good location right off Metro at Grands Blvd ...   \n",
       "8    12206   The room as expected for this type of hotel t...   \n",
       "9    13316   This was the first time I reserved a condo th...   \n",
       "\n",
       "     Expedia_neg_score   Expedia_neut_score    Expedia_pos_score  \\\n",
       "0  0.67068433196569921   0.8992417553072708  0.32931566803430085   \n",
       "1  0.63492114236923758  0.95168601085597793  0.36507885763076242   \n",
       "2  0.60506369410644789  0.72934490458291157  0.39493630589355211   \n",
       "3  0.67404197433277524  0.75005721846387718  0.32595802566722476   \n",
       "4  0.70544618303877971  0.60962251948336343  0.29455381696122029   \n",
       "5   0.3623069653994927  0.53181573235669799   0.6376930346005073   \n",
       "6  0.67411266340180664  0.96701643260194547   0.3258873365981933   \n",
       "7  0.49435246843382086   0.5933397710992574  0.50564753156617914   \n",
       "8  0.72160078371726166  0.56127887075029126  0.27839921628273834   \n",
       "9  0.58461648896032725  0.30336327530308144  0.41538351103967275   \n",
       "\n",
       "  Expedia_osat_label  \n",
       "0          \"neutral\"  \n",
       "1          \"neutral\"  \n",
       "2          \"neutral\"  \n",
       "3          \"neutral\"  \n",
       "4                neg  \n",
       "5                pos  \n",
       "6          \"neutral\"  \n",
       "7          \"neutral\"  \n",
       "8                neg  \n",
       "9                neg  "
      ]
     },
     "execution_count": 325,
     "metadata": {},
     "output_type": "execute_result"
    }
   ],
   "source": [
    "expedia_senti_score.iloc[9,2] = text_review[0]\n",
    "expedia_senti_score.iloc[9,3] = text_review[1]\n",
    "expedia_senti_score.iloc[9,4] = text_review[2]\n",
    "expedia_senti_score.iloc[9,5] = text_review[3]\n",
    "expedia_senti_score"
   ]
  },
  {
   "cell_type": "code",
   "execution_count": null,
   "metadata": {
    "collapsed": false
   },
   "outputs": [],
   "source": [
    "expedia_senti_score['Expedia_neg_score'] = 0\n",
    "expedia_senti_score['Expedia_neut_score'] = 0\n",
    "expedia_senti_score['Expedia_pos_score'] = 0\n",
    "expedia_senti_score['Expedia_osat_label'] = 0\n",
    "expedia_senti_score = expedia_senti_score \n",
    "expedia_senti_score"
   ]
  },
  {
   "cell_type": "code",
   "execution_count": null,
   "metadata": {
    "collapsed": false
   },
   "outputs": [],
   "source": [
    "expedia_senti_score_8230 = expedia_senti_score.loc[expedia_senti_score['hotelID']==8230]\n",
    "expedia_senti_score_8250 = expedia_senti_score.loc[expedia_senti_score['hotelID']==8250]\n",
    "expedia_senti_score_8253 = expedia_senti_score.loc[expedia_senti_score['hotelID']==8253]\n",
    "expedia_senti_score_8267 = expedia_senti_score.loc[expedia_senti_score['hotelID']==8267]\n",
    "expedia_senti_score_8268 = expedia_senti_score.loc[expedia_senti_score['hotelID']==8268]\n",
    "expedia_senti_score_8278 = expedia_senti_score.loc[expedia_senti_score['hotelID']==8278]\n",
    "expedia_senti_score_8279 = expedia_senti_score.loc[expedia_senti_score['hotelID']==8279]\n",
    "expedia_senti_score_8745 = expedia_senti_score.loc[expedia_senti_score['hotelID']==8745]\n",
    "expedia_senti_score_12206 = expedia_senti_score.loc[expedia_senti_score['hotelID']==12206]\n",
    "expedia_senti_score_13316 = expedia_senti_score.loc[expedia_senti_score['hotelID']==13316]\n",
    "data = expedia_senti_score_8230['Expedia_User_Comments']\n",
    "data1 = expedia_senti_score_8250['Expedia_User_Comments']\n",
    "data2 = expedia_senti_score_8253['Expedia_User_Comments']\n",
    "data3 = expedia_senti_score_8267['Expedia_User_Comments']\n",
    "data4 = expedia_senti_score_8268['Expedia_User_Comments']\n",
    "data5 = expedia_senti_score_8278['Expedia_User_Comments']\n",
    "data6 = expedia_senti_score_8279['Expedia_User_Comments']\n",
    "data7 = expedia_senti_score_8745['Expedia_User_Comments']\n",
    "data8 = expedia_senti_score_12206['Expedia_User_Comments']\n",
    "data9 = expedia_senti_score_13316['Expedia_User_Comments']"
   ]
  },
  {
   "cell_type": "code",
   "execution_count": 443,
   "metadata": {
    "collapsed": false
   },
   "outputs": [
    {
     "name": "stdout",
     "output_type": "stream",
     "text": [
      "0.58461648896032725\n",
      "0.30336327530308144\n",
      "0.41538351103967275\n",
      "\"neg\"\n"
     ]
    }
   ],
   "source": [
    "data = urllib.parse.urlencode({\"text\": data9}) \n",
    "r = requests.post(\"http://text-processing.com/api/sentiment/\",data)\n",
    "sentiment_artisaan = r.text\n",
    "list_text = sentiment_artisaan.split()\n",
    "def sentiment_score(text_for_senti_score):\n",
    "    list_text =  text_for_senti_score.split()\n",
    "    neg_score = list_text[2]\n",
    "    neg_score = neg_score.replace(\",\",\"\")\n",
    "    neutral_score = list_text[4]\n",
    "    neutral_score = neutral_score.replace(\",\",\"\")\n",
    "    pos_score = list_text[6]\n",
    "    pos_score = pos_score.replace(\",\",\"\")\n",
    "    pos_score = pos_score.replace(\"}\",\"\")\n",
    "    osat_label = list_text[8]\n",
    "    osat_label = osat_label.replace(\"}\",\"\") \n",
    "    return neg_score,neutral_score,pos_score,osat_label\n",
    "    \n",
    "text_review = sentiment_score(sentiment_artisaan)  \n",
    "for x in text_review:\n",
    "    print((x))"
   ]
  },
  {
   "cell_type": "code",
   "execution_count": 444,
   "metadata": {
    "collapsed": false
   },
   "outputs": [
    {
     "data": {
      "text/html": [
       "<div>\n",
       "<table border=\"1\" class=\"dataframe\">\n",
       "  <thead>\n",
       "    <tr style=\"text-align: right;\">\n",
       "      <th></th>\n",
       "      <th>hotelID</th>\n",
       "      <th>Expedia_User_Comments</th>\n",
       "      <th>Expedia_neg_score</th>\n",
       "      <th>Expedia_neut_score</th>\n",
       "      <th>Expedia_pos_score</th>\n",
       "      <th>Expedia_osat_label</th>\n",
       "    </tr>\n",
       "  </thead>\n",
       "  <tbody>\n",
       "    <tr>\n",
       "      <th>0</th>\n",
       "      <td>8230</td>\n",
       "      <td>Hotel was in a good location close to town, h...</td>\n",
       "      <td>0.570712206509283</td>\n",
       "      <td>0.71863323944925306</td>\n",
       "      <td>0.429287793490717</td>\n",
       "      <td>\"neutral\"</td>\n",
       "    </tr>\n",
       "    <tr>\n",
       "      <th>1</th>\n",
       "      <td>8250</td>\n",
       "      <td>Stayed in Battle Creek for the night, neede...</td>\n",
       "      <td>0.63492114236923758</td>\n",
       "      <td>0.95168601085597793</td>\n",
       "      <td>0.36507885763076242</td>\n",
       "      <td>\"neutral\"</td>\n",
       "    </tr>\n",
       "    <tr>\n",
       "      <th>2</th>\n",
       "      <td>8253</td>\n",
       "      <td>Even though we arrived at 8:30AM, the staff w...</td>\n",
       "      <td>0.60506369410644789</td>\n",
       "      <td>0.72934490458291157</td>\n",
       "      <td>0.39493630589355211</td>\n",
       "      <td>\"neutral\"</td>\n",
       "    </tr>\n",
       "    <tr>\n",
       "      <th>3</th>\n",
       "      <td>8267</td>\n",
       "      <td>could not rest on this softer mattresstold ...</td>\n",
       "      <td>0.67404197433277524</td>\n",
       "      <td>0.75005721846387718</td>\n",
       "      <td>0.32595802566722476</td>\n",
       "      <td>\"neutral\"</td>\n",
       "    </tr>\n",
       "    <tr>\n",
       "      <th>4</th>\n",
       "      <td>8268</td>\n",
       "      <td>Stayed for thanksgiving holiday, The entire...</td>\n",
       "      <td>0.70544618303877971</td>\n",
       "      <td>0.60962251948336343</td>\n",
       "      <td>0.29455381696122029</td>\n",
       "      <td>neg</td>\n",
       "    </tr>\n",
       "    <tr>\n",
       "      <th>5</th>\n",
       "      <td>8278</td>\n",
       "      <td>Staff is very nice.  Hotel is dated and mus...</td>\n",
       "      <td>0.3623069653994927</td>\n",
       "      <td>0.53181573235669799</td>\n",
       "      <td>0.6376930346005073</td>\n",
       "      <td>pos</td>\n",
       "    </tr>\n",
       "    <tr>\n",
       "      <th>6</th>\n",
       "      <td>8279</td>\n",
       "      <td>Paid cash for my room.they turned around and ...</td>\n",
       "      <td>0.67411266340180664</td>\n",
       "      <td>0.96701643260194547</td>\n",
       "      <td>0.3258873365981933</td>\n",
       "      <td>\"neutral\"</td>\n",
       "    </tr>\n",
       "    <tr>\n",
       "      <th>7</th>\n",
       "      <td>8745</td>\n",
       "      <td>Good location right off Metro at Grands Blvd ...</td>\n",
       "      <td>0.49435246843382086</td>\n",
       "      <td>0.5933397710992574</td>\n",
       "      <td>0.50564753156617914</td>\n",
       "      <td>\"neutral\"</td>\n",
       "    </tr>\n",
       "    <tr>\n",
       "      <th>8</th>\n",
       "      <td>12206</td>\n",
       "      <td>The room as expected for this type of hotel t...</td>\n",
       "      <td>0.72160078371726166</td>\n",
       "      <td>0.56127887075029126</td>\n",
       "      <td>0.27839921628273834</td>\n",
       "      <td>neg</td>\n",
       "    </tr>\n",
       "    <tr>\n",
       "      <th>9</th>\n",
       "      <td>13316</td>\n",
       "      <td>This was the first time I reserved a condo th...</td>\n",
       "      <td>0.58461648896032725</td>\n",
       "      <td>0.30336327530308144</td>\n",
       "      <td>0.41538351103967275</td>\n",
       "      <td>\"neg\"</td>\n",
       "    </tr>\n",
       "  </tbody>\n",
       "</table>\n",
       "</div>"
      ],
      "text/plain": [
       "   hotelID                              Expedia_User_Comments  \\\n",
       "0     8230   Hotel was in a good location close to town, h...   \n",
       "1     8250     Stayed in Battle Creek for the night, neede...   \n",
       "2     8253   Even though we arrived at 8:30AM, the staff w...   \n",
       "3     8267     could not rest on this softer mattresstold ...   \n",
       "4     8268     Stayed for thanksgiving holiday, The entire...   \n",
       "5     8278     Staff is very nice.  Hotel is dated and mus...   \n",
       "6     8279   Paid cash for my room.they turned around and ...   \n",
       "7     8745   Good location right off Metro at Grands Blvd ...   \n",
       "8    12206   The room as expected for this type of hotel t...   \n",
       "9    13316   This was the first time I reserved a condo th...   \n",
       "\n",
       "     Expedia_neg_score   Expedia_neut_score    Expedia_pos_score  \\\n",
       "0    0.570712206509283  0.71863323944925306    0.429287793490717   \n",
       "1  0.63492114236923758  0.95168601085597793  0.36507885763076242   \n",
       "2  0.60506369410644789  0.72934490458291157  0.39493630589355211   \n",
       "3  0.67404197433277524  0.75005721846387718  0.32595802566722476   \n",
       "4  0.70544618303877971  0.60962251948336343  0.29455381696122029   \n",
       "5   0.3623069653994927  0.53181573235669799   0.6376930346005073   \n",
       "6  0.67411266340180664  0.96701643260194547   0.3258873365981933   \n",
       "7  0.49435246843382086   0.5933397710992574  0.50564753156617914   \n",
       "8  0.72160078371726166  0.56127887075029126  0.27839921628273834   \n",
       "9  0.58461648896032725  0.30336327530308144  0.41538351103967275   \n",
       "\n",
       "  Expedia_osat_label  \n",
       "0          \"neutral\"  \n",
       "1          \"neutral\"  \n",
       "2          \"neutral\"  \n",
       "3          \"neutral\"  \n",
       "4                neg  \n",
       "5                pos  \n",
       "6          \"neutral\"  \n",
       "7          \"neutral\"  \n",
       "8                neg  \n",
       "9              \"neg\"  "
      ]
     },
     "execution_count": 444,
     "metadata": {},
     "output_type": "execute_result"
    }
   ],
   "source": [
    "expedia_senti_score.iloc[9,2] = text_review[0]\n",
    "expedia_senti_score.iloc[9,3] = text_review[1]\n",
    "expedia_senti_score.iloc[9,4] = text_review[2]\n",
    "expedia_senti_score.iloc[9,5] = text_review[3]\n",
    "expedia_senti_score = expedia_senti_score \n",
    "expedia_senti_score"
   ]
  },
  {
   "cell_type": "code",
   "execution_count": 449,
   "metadata": {
    "collapsed": false
   },
   "outputs": [],
   "source": [
    "final_expedia_tripadvisor_sentimental_analysis = tripadvisor_senti_score.merge(expedia_senti_score,how='outer')\n",
    "final_expedia_tripadvisor_sentimental_analysis.to_csv(\"Sentimental_analysis_labels_Trip_Expedia.csv\")"
   ]
  },
  {
   "cell_type": "markdown",
   "metadata": {},
   "source": [
    "# We will Use the Microsoft Cognitive API to fetch Sentimental Score and KeyWord extractions related to comments to understand the relationship  "
   ]
  },
  {
   "cell_type": "code",
   "execution_count": 4,
   "metadata": {
    "collapsed": false
   },
   "outputs": [],
   "source": [
    "import urllib.request\n",
    "import sys\n",
    "import base64\n",
    "import json\n",
    "import http.client, urllib.request, urllib.parse, urllib.error, base64"
   ]
  },
  {
   "cell_type": "code",
   "execution_count": 126,
   "metadata": {
    "collapsed": false
   },
   "outputs": [],
   "source": [
    "all_comments_expedia = data_review[['hotelID','Expedia_User_Comments']]"
   ]
  },
  {
   "cell_type": "code",
   "execution_count": 127,
   "metadata": {
    "collapsed": false
   },
   "outputs": [],
   "source": [
    "all_comments_expedia = all_comments_expedia.groupby('hotelID').sum()\n",
    "all_comments_expedia['hotel_ID'] = all_comments_expedia.index\n",
    "all_comments_expedia.replace('  ', np.nan, inplace=True)\n",
    "all_comments_expedia = all_comments_expedia.dropna()"
   ]
  },
  {
   "cell_type": "code",
   "execution_count": 129,
   "metadata": {
    "collapsed": false
   },
   "outputs": [],
   "source": [
    "all_comments_expedia.reset_index(inplace=True)"
   ]
  },
  {
   "cell_type": "code",
   "execution_count": 123,
   "metadata": {
    "collapsed": true
   },
   "outputs": [],
   "source": [
    "all_comments_expedia.to_csv('expedia_comments_hotelIds.csv')"
   ]
  },
  {
   "cell_type": "code",
   "execution_count": 136,
   "metadata": {
    "collapsed": false
   },
   "outputs": [],
   "source": [
    "all_comments_expedia = all_comments_expedia[['Expedia_User_Comments','hotel_ID']]\n",
    "all_comments_expedia_top5 = all_comments_expedia.head(5) "
   ]
  },
  {
   "cell_type": "code",
   "execution_count": 221,
   "metadata": {
    "collapsed": false
   },
   "outputs": [
    {
     "name": "stderr",
     "output_type": "stream",
     "text": [
      "C:\\Users\\Jay Padhya\\Anaconda3\\New\\lib\\site-packages\\ipykernel\\__main__.py:1: SettingWithCopyWarning: \n",
      "A value is trying to be set on a copy of a slice from a DataFrame.\n",
      "Try using .loc[row_indexer,col_indexer] = value instead\n",
      "\n",
      "See the caveats in the documentation: http://pandas.pydata.org/pandas-docs/stable/indexing.html#indexing-view-versus-copy\n",
      "  if __name__ == '__main__':\n"
     ]
    }
   ],
   "source": [
    "all_comments_expedia_top5['Expedia_User_Comments'] = all_comments_expedia_top5['Expedia_User_Comments'].astype(str)"
   ]
  },
  {
   "cell_type": "code",
   "execution_count": 247,
   "metadata": {
    "collapsed": false
   },
   "outputs": [],
   "source": [
    "all_comments_expedia_top5_utf_8 = pd.read_csv(currentWD+\"/\"+\"CSV_Output\"+\"/\"+\"expedia_comments_hotelIds.csv\",encoding = \"ISO-8859-1\",error_bad_lines=False)"
   ]
  },
  {
   "cell_type": "code",
   "execution_count": 249,
   "metadata": {
    "collapsed": false
   },
   "outputs": [],
   "source": [
    "all_comments_expedia_top5_utf_8 = all_comments_expedia_top5_utf_8[['hotelID','Expedia_User_Comments']]\n"
   ]
  },
  {
   "cell_type": "code",
   "execution_count": 250,
   "metadata": {
    "collapsed": false
   },
   "outputs": [
    {
     "data": {
      "text/html": [
       "<div>\n",
       "<table border=\"1\" class=\"dataframe\">\n",
       "  <thead>\n",
       "    <tr style=\"text-align: right;\">\n",
       "      <th></th>\n",
       "      <th>hotelID</th>\n",
       "      <th>Expedia_User_Comments</th>\n",
       "    </tr>\n",
       "  </thead>\n",
       "  <tbody>\n",
       "    <tr>\n",
       "      <th>0</th>\n",
       "      <td>1</td>\n",
       "      <td>The hotel definitely needs renovation! the fi...</td>\n",
       "    </tr>\n",
       "    <tr>\n",
       "      <th>1</th>\n",
       "      <td>5</td>\n",
       "      <td>This was my 10th time at this hotel - I will ...</td>\n",
       "    </tr>\n",
       "    <tr>\n",
       "      <th>2</th>\n",
       "      <td>8</td>\n",
       "      <td>Very quiet clean place to stay on a Saturday ...</td>\n",
       "    </tr>\n",
       "  </tbody>\n",
       "</table>\n",
       "</div>"
      ],
      "text/plain": [
       "   hotelID                              Expedia_User_Comments\n",
       "0        1   The hotel definitely needs renovation! the fi...\n",
       "1        5   This was my 10th time at this hotel - I will ...\n",
       "2        8   Very quiet clean place to stay on a Saturday ..."
      ]
     },
     "execution_count": 250,
     "metadata": {},
     "output_type": "execute_result"
    }
   ],
   "source": [
    "all_comments_expedia_top5_utf_8.head(3)"
   ]
  },
  {
   "cell_type": "markdown",
   "metadata": {},
   "source": [
    "# Demo Microsoft API Sentimental Score ouptut\n",
    "\n",
    "- We will be using same code in function and call our file to iterate and make lisst for sentimental scores for each comment on hotelID \n"
   ]
  },
  {
   "cell_type": "code",
   "execution_count": 415,
   "metadata": {
    "collapsed": false
   },
   "outputs": [
    {
     "name": "stdout",
     "output_type": "stream",
     "text": [
      "We are in try b'{\"documents\":[{\"score\":0.5,\"id\":\"1\"},{\"score\":0.0520364090740766,\"id\":\"2\"}],\"errors\":[]}'\n"
     ]
    }
   ],
   "source": [
    "headers = {\n",
    "   \n",
    "    'Content-Type': 'application/json',\n",
    "    'Ocp-Apim-Subscription-Key': account_key,\n",
    "}\n",
    "params = urllib.parse.urlencode({})\n",
    "body = {\n",
    "    \"documents\": [\n",
    "        {\n",
    "            \"id\": 1,\n",
    "            \"text\": \"First document. Hello world.\"\n",
    "        },\n",
    "        {\n",
    "            \"id\": 2,\n",
    "            \"text\": \"Final document. yes - it sucks .Calling Cognitive API again.\"\n",
    "        }\n",
    "    ]\n",
    "}\n",
    "try:\n",
    "    conn = http.client.HTTPSConnection('westus.api.cognitive.microsoft.com')\n",
    "    conn.request(\"POST\", \"/text/analytics/v2.0/sentiment?%s\" % params, str(body), headers)\n",
    "    response = conn.getresponse()\n",
    "    data = response.read()\n",
    "    print(\"We are in try\",data)\n",
    "    \n",
    "    conn.close()\n",
    "except Exception as e:\n",
    "    print(\"[Errno {0}] {1}\".format(e.errno, e.strerror))"
   ]
  },
  {
   "cell_type": "markdown",
   "metadata": {},
   "source": [
    "** Step 2 : Copy the same in function and call when you have data across all hotel data **"
   ]
  },
  {
   "cell_type": "code",
   "execution_count": 371,
   "metadata": {
    "collapsed": false
   },
   "outputs": [],
   "source": [
    "def microsoft_senti_api(hotelid,hotelcomments):\n",
    "    \n",
    "    headers = {\n",
    "        'Content-Type': 'application/json',\n",
    "        'Ocp-Apim-Subscription-Key': account_key,\n",
    "    }\n",
    "    params = urllib.parse.urlencode({})\n",
    "    body = {\n",
    "        \"documents\": [\n",
    "            {\n",
    "                \"id\": hotelid,\n",
    "                \"text\": hotelcomments\n",
    "            }\n",
    "        ]\n",
    "    }\n",
    "    try:\n",
    "        conn = http.client.HTTPSConnection('westus.api.cognitive.microsoft.com')\n",
    "        conn.request(\"POST\", \"/text/analytics/v2.0/sentiment?%s\" % params, str(body), headers)\n",
    "        response = conn.getresponse()\n",
    "        data = response.read()\n",
    "        return data\n",
    "        conn.close()\n",
    "    except Exception as e:\n",
    "        print(\"[Errno {0}] {1}\".format(e.errno, e.strerror))"
   ]
  },
  {
   "cell_type": "code",
   "execution_count": null,
   "metadata": {
    "collapsed": true
   },
   "outputs": [],
   "source": [
    "# Reading through CSV and making columns \n",
    "data_review_expedia_cleanup = pd.read_csv('reviews_clean_flitered.txt',names=[\"hotelID\",\"Expedia_User_Comments\",\"Expedia_Cleanliness\",\"Expedia_RoomComfort\",\"Expedia_HotelCondition\"],sep=\"^\")\n",
    "expedia_micro_each_column_score = data_review_expedia_cleanup[['hotelID','Expedia_User_Comments']]\n",
    "expedia_micro_each_column_score.head(10)\n",
    "\n",
    "# We need to replace all blank rows with NAN values and then DROP NAN values because that is most efficient way to clean rows\n",
    "\n",
    "expedia_micro_each_column_score.replace('  ', np.nan, inplace=True)\n",
    "expedia_micro_each_column_score = all_comments_expedia.dropna()\n",
    "#expedia_micro_each_column_score\n",
    "expedia_micro_each_column_score.to_csv(\"clean_expedia_comments_no_blanks_every_row.csv\")"
   ]
  },
  {
   "cell_type": "code",
   "execution_count": 404,
   "metadata": {
    "collapsed": false
   },
   "outputs": [],
   "source": [
    "expedia_microsoft_try_fullfile =pd.read_csv('reviews_clean_flitered_no_blanks_15_reviews.csv', encoding='iso-8859-1',error_bad_lines=False) \n",
    "expedia_microsoft_try_fullfile=expedia_microsoft_try_fullfile[['hotelID','hotelComments']]"
   ]
  },
  {
   "cell_type": "code",
   "execution_count": 405,
   "metadata": {
    "collapsed": false
   },
   "outputs": [],
   "source": [
    "list_hotelIds = []\n",
    "list_sentiscore = []\n",
    "for x,y in zip(expedia_microsoft_try_fullfile['hotelID'],expedia_microsoft_try_fullfile['hotelComments']):\n",
    "        #print(x,y)\n",
    "        storing_api_call=microsoft_senti_api(x,y)\n",
    "        dictionary_api=json.loads(storing_api_call.decode(\"ascii\")) \n",
    "        for y in dictionary_api['documents']:\n",
    "            list_hotelIds.append(y['id'])\n",
    "            list_sentiscore.append(y['score'])"
   ]
  },
  {
   "cell_type": "code",
   "execution_count": 411,
   "metadata": {
    "collapsed": false
   },
   "outputs": [],
   "source": [
    "df_sentiscore = pd.DataFrame({'hotelID':list_hotelIds,'sentiscore':list_sentiscore})"
   ]
  },
  {
   "cell_type": "code",
   "execution_count": 413,
   "metadata": {
    "collapsed": false
   },
   "outputs": [
    {
     "data": {
      "text/html": [
       "<div>\n",
       "<table border=\"1\" class=\"dataframe\">\n",
       "  <thead>\n",
       "    <tr style=\"text-align: right;\">\n",
       "      <th></th>\n",
       "      <th>hotelID</th>\n",
       "      <th>sentiscore</th>\n",
       "    </tr>\n",
       "  </thead>\n",
       "  <tbody>\n",
       "    <tr>\n",
       "      <th>0</th>\n",
       "      <td>893</td>\n",
       "      <td>0.882233</td>\n",
       "    </tr>\n",
       "    <tr>\n",
       "      <th>1</th>\n",
       "      <td>893</td>\n",
       "      <td>0.921230</td>\n",
       "    </tr>\n",
       "    <tr>\n",
       "      <th>2</th>\n",
       "      <td>893</td>\n",
       "      <td>0.998182</td>\n",
       "    </tr>\n",
       "    <tr>\n",
       "      <th>3</th>\n",
       "      <td>893</td>\n",
       "      <td>0.994469</td>\n",
       "    </tr>\n",
       "    <tr>\n",
       "      <th>4</th>\n",
       "      <td>893</td>\n",
       "      <td>0.028517</td>\n",
       "    </tr>\n",
       "  </tbody>\n",
       "</table>\n",
       "</div>"
      ],
      "text/plain": [
       "  hotelID  sentiscore\n",
       "0     893    0.882233\n",
       "1     893    0.921230\n",
       "2     893    0.998182\n",
       "3     893    0.994469\n",
       "4     893    0.028517"
      ]
     },
     "execution_count": 413,
     "metadata": {},
     "output_type": "execute_result"
    }
   ],
   "source": [
    "df_sentiscore.head(5)"
   ]
  },
  {
   "cell_type": "code",
   "execution_count": 414,
   "metadata": {
    "collapsed": true
   },
   "outputs": [],
   "source": [
    "df_sentiscore.to_csv(\"hotelid_with_Microsoft_API_senti_scores.csv\")"
   ]
  },
  {
   "cell_type": "code",
   "execution_count": 5,
   "metadata": {
    "collapsed": true
   },
   "outputs": [],
   "source": [
    "def microsoft_keyphrases_api(hotelid,hotelcomments):\n",
    "    \n",
    "    headers = {\n",
    "        # Request headers\n",
    "    'Content-Type': 'application/json',\n",
    "    'Ocp-Apim-Subscription-Key': account_key,\n",
    "    }\n",
    "\n",
    "    input_texts = 'hey how are you'\n",
    "    params = urllib.parse.urlencode({})\n",
    "    body = {\n",
    "        \"documents\": [\n",
    "            {\n",
    "                \"id\": hotelid,\n",
    "                \"text\": hotelcomments\n",
    "            },\n",
    "        ]\n",
    "    }\n",
    "    try:\n",
    "        conn = http.client.HTTPSConnection('westus.api.cognitive.microsoft.com')\n",
    "        conn.request(\"POST\", \"/text/analytics/v2.0/keyPhrases?%s\" % params, str(body), headers)\n",
    "        response = conn.getresponse()\n",
    "        data = response.read()\n",
    "        #print(\"We are in try\",data)\n",
    "        return data\n",
    "        conn.close()\n",
    "    except Exception as e:\n",
    "        print(\"[Errno {0}] {1}\".format(e.errno, e.strerror))"
   ]
  },
  {
   "cell_type": "code",
   "execution_count": 7,
   "metadata": {
    "collapsed": false
   },
   "outputs": [],
   "source": [
    "expedia_microsoft_keyphrases =pd.read_csv('reviews_clean_flitered_no_blanks_15_reviews.csv', encoding='iso-8859-1',error_bad_lines=False) \n",
    "expedia_microsoft_try_fullfile=expedia_microsoft_keyphrases[['hotelID','hotelComments']]"
   ]
  },
  {
   "cell_type": "code",
   "execution_count": null,
   "metadata": {
    "collapsed": false
   },
   "outputs": [],
   "source": [
    "list_hotelIds = []\n",
    "list_key_phrases = []\n",
    "for x,y in zip(expedia_microsoft_try_fullfile['hotelID'],expedia_microsoft_try_fullfile['hotelComments']):\n",
    "            storing_api_call=microsoft_keyphrases_api(x,y)\n",
    "            dictionary_api=json.loads(storing_api_call.decode(\"ascii\"))\n",
    "            for y in dictionary_api['documents']:\n",
    "                list_hotelIds.append(y['id'])\n",
    "                list_key_phrases.append(y['keyPhrases'])  "
   ]
  },
  {
   "cell_type": "code",
   "execution_count": 446,
   "metadata": {
    "collapsed": false
   },
   "outputs": [],
   "source": [
    "# Sample of the api call per comments under same hotel group"
   ]
  },
  {
   "cell_type": "code",
   "execution_count": 444,
   "metadata": {
    "collapsed": false
   },
   "outputs": [
    {
     "data": {
      "text/plain": [
       "b'{\"documents\":[{\"keyPhrases\":[\"nice perk\",\"dam kids\",\"Hospitality room\",\"HmmmmmmmLots of kids\",\"floor guests\",\"good food hot\",\"beer\",\"snacks\",\"water view\",\"Evening Hoers D\\'Vours\",\"hot tub minor disappointmentAll\",\"Pizza\",\"city\",\"key card\",\"shelf\",\"bill\",\"Clean rooms\",\"Pool\",\"weekend\",\"hours tea coffee\",\"noise\",\"YO bottle of Jameson\",\"negative feelings\",\"issue\",\"mixed drink\",\"cold\",\"wife\",\"way\",\"beds\",\"elevator\",\"soda\",\"tipI\"],\"id\":\"11622\"}],\"errors\":[]}'"
      ]
     },
     "execution_count": 444,
     "metadata": {},
     "output_type": "execute_result"
    }
   ],
   "source": [
    "storing_api_call"
   ]
  }
 ],
 "metadata": {
  "anaconda-cloud": {},
  "kernelspec": {
   "display_name": "Python [default]",
   "language": "python",
   "name": "python3"
  },
  "language_info": {
   "codemirror_mode": {
    "name": "ipython",
    "version": 3
   },
   "file_extension": ".py",
   "mimetype": "text/x-python",
   "name": "python",
   "nbconvert_exporter": "python",
   "pygments_lexer": "ipython3",
   "version": "3.5.2"
  }
 },
 "nbformat": 4,
 "nbformat_minor": 1
}
