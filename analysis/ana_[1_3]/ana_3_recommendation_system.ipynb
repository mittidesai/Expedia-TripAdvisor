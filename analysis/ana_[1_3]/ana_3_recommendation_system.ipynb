{
 "cells": [
  {
   "cell_type": "markdown",
   "metadata": {
    "collapsed": true
   },
   "source": [
    "# Recommendation : \n",
    "\n",
    "We will consider API Data and CSV Datasheet to evaluate the Overall Recommendation considering both the datasets. Based on the regions (Continent, country, city ), user preferences (family oriented, package deals, user source continent) from the CSV sheet and Sentimental score (room cleanliness, Room Comfort,Hotel condition) from Expedia API data - we will take user input and provide the best ten hotels in that regions"
   ]
  },
  {
   "cell_type": "code",
   "execution_count": 1,
   "metadata": {
    "collapsed": true
   },
   "outputs": [],
   "source": [
    "import pandas as pd\n",
    "import matplotlib as plt\n",
    "import numpy as np\n",
    "import re\n",
    "import requests\n",
    "import logging\n",
    "import os\n",
    "import json\n",
    "import html5lib\n",
    "from bs4 import BeautifulSoup\n",
    "import glob,string #Importing glob for iterations and storing\n",
    "import seaborn as sns\n",
    "%matplotlib inline\n",
    "from matplotlib import *\n",
    "import sys\n",
    "from pylab import *\n",
    "import urllib.request"
   ]
  },
  {
   "cell_type": "code",
   "execution_count": 2,
   "metadata": {
    "collapsed": false
   },
   "outputs": [
    {
     "data": {
      "text/plain": [
       "'C:\\\\Users\\\\Jay Padhya\\\\Documents\\\\Python_FinalProject'"
      ]
     },
     "execution_count": 2,
     "metadata": {},
     "output_type": "execute_result"
    }
   ],
   "source": [
    "currentWD = os.getcwd()\n",
    "currentWD"
   ]
  },
  {
   "cell_type": "code",
   "execution_count": 3,
   "metadata": {
    "collapsed": false
   },
   "outputs": [
    {
     "name": "stderr",
     "output_type": "stream",
     "text": [
      "C:\\Users\\Jay Padhya\\Anaconda3\\New\\lib\\site-packages\\IPython\\core\\interactiveshell.py:2717: DtypeWarning: Columns (3,4) have mixed types. Specify dtype option on import or set low_memory=False.\n",
      "  interactivity=interactivity, compiler=compiler, result=result)\n"
     ]
    }
   ],
   "source": [
    "data_review = pd.read_csv('reviews_clean_flitered.txt',names=[\"hotelID\",\"Expedia_User_Comments\",\"Expedia_Cleanliness\",\"Expedia_RoomComfort\",\"Expedia_HotelCondition\"],sep=\"^\")\n",
    "data_review = data_review.drop('Expedia_User_Comments',1) # Dropping as we don't need ocmments"
   ]
  },
  {
   "cell_type": "code",
   "execution_count": null,
   "metadata": {
    "collapsed": true
   },
   "outputs": [],
   "source": [
    "# We will now convert all SERIES objects into FLOATs by using convert_numeric as true"
   ]
  },
  {
   "cell_type": "code",
   "execution_count": 4,
   "metadata": {
    "collapsed": false
   },
   "outputs": [
    {
     "name": "stderr",
     "output_type": "stream",
     "text": [
      "C:\\Users\\Jay Padhya\\Anaconda3\\New\\lib\\site-packages\\ipykernel\\__main__.py:1: FutureWarning: convert_objects is deprecated.  Use the data-type specific converters pd.to_datetime, pd.to_timedelta and pd.to_numeric.\n",
      "  if __name__ == '__main__':\n",
      "C:\\Users\\Jay Padhya\\Anaconda3\\New\\lib\\site-packages\\ipykernel\\__main__.py:2: FutureWarning: convert_objects is deprecated.  Use the data-type specific converters pd.to_datetime, pd.to_timedelta and pd.to_numeric.\n",
      "  from ipykernel import kernelapp as app\n",
      "C:\\Users\\Jay Padhya\\Anaconda3\\New\\lib\\site-packages\\ipykernel\\__main__.py:3: FutureWarning: convert_objects is deprecated.  Use the data-type specific converters pd.to_datetime, pd.to_timedelta and pd.to_numeric.\n",
      "  app.launch_new_instance()\n"
     ]
    }
   ],
   "source": [
    "data_review['Expedia_Cleanliness'] = data_review['Expedia_Cleanliness'].convert_objects(convert_numeric = True)\n",
    "data_review['Expedia_RoomComfort'] = data_review['Expedia_RoomComfort'].convert_objects(convert_numeric = True)\n",
    "data_review['Expedia_HotelCondition'] = data_review['Expedia_HotelCondition'].convert_objects(convert_numeric = True)\n",
    "data_review['Expedia_Cleanliness'] = data_review['Expedia_Cleanliness'].astype(float)\n",
    "data_review['Expedia_RoomComfort'] = data_review['Expedia_RoomComfort'].astype(float)\n",
    "data_review['Expedia_HotelCondition'] = data_review['Expedia_HotelCondition'].astype(float)"
   ]
  },
  {
   "cell_type": "code",
   "execution_count": 5,
   "metadata": {
    "collapsed": false
   },
   "outputs": [
    {
     "data": {
      "text/html": [
       "<div>\n",
       "<table border=\"1\" class=\"dataframe\">\n",
       "  <thead>\n",
       "    <tr style=\"text-align: right;\">\n",
       "      <th></th>\n",
       "      <th>hotelID</th>\n",
       "      <th>Expedia_Cleanliness</th>\n",
       "      <th>Expedia_RoomComfort</th>\n",
       "      <th>Expedia_HotelCondition</th>\n",
       "    </tr>\n",
       "  </thead>\n",
       "  <tbody>\n",
       "    <tr>\n",
       "      <th>0</th>\n",
       "      <td>893</td>\n",
       "      <td>5.0</td>\n",
       "      <td>5.0</td>\n",
       "      <td>5.0</td>\n",
       "    </tr>\n",
       "    <tr>\n",
       "      <th>1</th>\n",
       "      <td>893</td>\n",
       "      <td>5.0</td>\n",
       "      <td>5.0</td>\n",
       "      <td>5.0</td>\n",
       "    </tr>\n",
       "    <tr>\n",
       "      <th>2</th>\n",
       "      <td>893</td>\n",
       "      <td>5.0</td>\n",
       "      <td>5.0</td>\n",
       "      <td>5.0</td>\n",
       "    </tr>\n",
       "    <tr>\n",
       "      <th>3</th>\n",
       "      <td>893</td>\n",
       "      <td>5.0</td>\n",
       "      <td>5.0</td>\n",
       "      <td>5.0</td>\n",
       "    </tr>\n",
       "    <tr>\n",
       "      <th>4</th>\n",
       "      <td>893</td>\n",
       "      <td>5.0</td>\n",
       "      <td>5.0</td>\n",
       "      <td>5.0</td>\n",
       "    </tr>\n",
       "  </tbody>\n",
       "</table>\n",
       "</div>"
      ],
      "text/plain": [
       "   hotelID  Expedia_Cleanliness  Expedia_RoomComfort  Expedia_HotelCondition\n",
       "0      893                  5.0                  5.0                     5.0\n",
       "1      893                  5.0                  5.0                     5.0\n",
       "2      893                  5.0                  5.0                     5.0\n",
       "3      893                  5.0                  5.0                     5.0\n",
       "4      893                  5.0                  5.0                     5.0"
      ]
     },
     "execution_count": 5,
     "metadata": {},
     "output_type": "execute_result"
    }
   ],
   "source": [
    "expedia_OSAT_top_ten_hotels = data_review\n",
    "expedia_OSAT_top_ten_hotels.head(5)"
   ]
  },
  {
   "cell_type": "code",
   "execution_count": 6,
   "metadata": {
    "collapsed": false
   },
   "outputs": [],
   "source": [
    "expedia_OSAT_scores_sum = expedia_OSAT_top_ten_hotels.groupby('hotelID').sum()\n",
    "expedia_OSAT_scores_count = expedia_OSAT_top_ten_hotels.groupby('hotelID').count()\n",
    "expedia_OSAT_scores_count['hotelID'] = expedia_OSAT_scores_count.index"
   ]
  },
  {
   "cell_type": "code",
   "execution_count": 7,
   "metadata": {
    "collapsed": false
   },
   "outputs": [
    {
     "name": "stderr",
     "output_type": "stream",
     "text": [
      "C:\\Users\\Jay Padhya\\Anaconda3\\New\\lib\\site-packages\\ipykernel\\__main__.py:1: FutureWarning: sort(columns=....) is deprecated, use sort_values(by=.....)\n",
      "  if __name__ == '__main__':\n"
     ]
    },
    {
     "data": {
      "text/html": [
       "<div>\n",
       "<table border=\"1\" class=\"dataframe\">\n",
       "  <thead>\n",
       "    <tr style=\"text-align: right;\">\n",
       "      <th></th>\n",
       "      <th>Expedia_Cleanliness</th>\n",
       "      <th>Expedia_RoomComfort</th>\n",
       "      <th>Expedia_HotelCondition</th>\n",
       "      <th>hotelID</th>\n",
       "    </tr>\n",
       "    <tr>\n",
       "      <th>hotelID</th>\n",
       "      <th></th>\n",
       "      <th></th>\n",
       "      <th></th>\n",
       "      <th></th>\n",
       "    </tr>\n",
       "  </thead>\n",
       "  <tbody>\n",
       "    <tr>\n",
       "      <th>70393</th>\n",
       "      <td>1</td>\n",
       "      <td>1</td>\n",
       "      <td>1</td>\n",
       "      <td>70393</td>\n",
       "    </tr>\n",
       "    <tr>\n",
       "      <th>89335</th>\n",
       "      <td>1</td>\n",
       "      <td>1</td>\n",
       "      <td>1</td>\n",
       "      <td>89335</td>\n",
       "    </tr>\n",
       "    <tr>\n",
       "      <th>89334</th>\n",
       "      <td>1</td>\n",
       "      <td>1</td>\n",
       "      <td>1</td>\n",
       "      <td>89334</td>\n",
       "    </tr>\n",
       "    <tr>\n",
       "      <th>89333</th>\n",
       "      <td>1</td>\n",
       "      <td>1</td>\n",
       "      <td>1</td>\n",
       "      <td>89333</td>\n",
       "    </tr>\n",
       "    <tr>\n",
       "      <th>89332</th>\n",
       "      <td>1</td>\n",
       "      <td>1</td>\n",
       "      <td>1</td>\n",
       "      <td>89332</td>\n",
       "    </tr>\n",
       "  </tbody>\n",
       "</table>\n",
       "</div>"
      ],
      "text/plain": [
       "         Expedia_Cleanliness  Expedia_RoomComfort  Expedia_HotelCondition  \\\n",
       "hotelID                                                                     \n",
       "70393                      1                    1                       1   \n",
       "89335                      1                    1                       1   \n",
       "89334                      1                    1                       1   \n",
       "89333                      1                    1                       1   \n",
       "89332                      1                    1                       1   \n",
       "\n",
       "         hotelID  \n",
       "hotelID           \n",
       "70393      70393  \n",
       "89335      89335  \n",
       "89334      89334  \n",
       "89333      89333  \n",
       "89332      89332  "
      ]
     },
     "execution_count": 7,
     "metadata": {},
     "output_type": "execute_result"
    }
   ],
   "source": [
    "expedia_OSAT_scores_count.sort('Expedia_Cleanliness').head(5)"
   ]
  },
  {
   "cell_type": "code",
   "execution_count": 8,
   "metadata": {
    "collapsed": false,
    "scrolled": false
   },
   "outputs": [
    {
     "name": "stderr",
     "output_type": "stream",
     "text": [
      "C:\\Users\\Jay Padhya\\Anaconda3\\New\\lib\\site-packages\\ipykernel\\__main__.py:2: FutureWarning: sort(columns=....) is deprecated, use sort_values(by=.....)\n",
      "  from ipykernel import kernelapp as app\n"
     ]
    }
   ],
   "source": [
    "expedia_OSAT_scores = expedia_OSAT_scores_sum / expedia_OSAT_scores_count\n",
    "expedia_OSAT_scores = expedia_OSAT_scores.sort(['Expedia_Cleanliness','Expedia_RoomComfort','Expedia_HotelCondition'],ascending=False)\n",
    "expedia_OSAT_scores['hotelID'] = expedia_OSAT_scores.index"
   ]
  },
  {
   "cell_type": "code",
   "execution_count": 9,
   "metadata": {
    "collapsed": false
   },
   "outputs": [],
   "source": [
    "expedia_OSAT_scores = expedia_OSAT_scores.rename(index = str,columns={\"Expedia_Cleanliness\":\"Cleanliness_Score\",\"Expedia_RoomComfort\":\"Comfort_Score\",\"Expedia_HotelCondition\":\"Condition_Score\"})\n",
    "expedia_OSAT_scores = pd.DataFrame(expedia_OSAT_scores)"
   ]
  },
  {
   "cell_type": "code",
   "execution_count": 10,
   "metadata": {
    "collapsed": false
   },
   "outputs": [
    {
     "name": "stderr",
     "output_type": "stream",
     "text": [
      "C:\\Users\\Jay Padhya\\Anaconda3\\New\\lib\\site-packages\\ipykernel\\__main__.py:2: FutureWarning: sort(columns=....) is deprecated, use sort_values(by=.....)\n",
      "  from ipykernel import kernelapp as app\n"
     ]
    },
    {
     "data": {
      "text/html": [
       "<div>\n",
       "<table border=\"1\" class=\"dataframe\">\n",
       "  <thead>\n",
       "    <tr style=\"text-align: right;\">\n",
       "      <th></th>\n",
       "      <th>Cleanliness_Score</th>\n",
       "      <th>Condition_Score</th>\n",
       "      <th>Comfort_Score</th>\n",
       "      <th>hotelID</th>\n",
       "      <th>Expedia_Cleanliness</th>\n",
       "      <th>Expedia_RoomComfort</th>\n",
       "      <th>Expedia_HotelCondition</th>\n",
       "    </tr>\n",
       "  </thead>\n",
       "  <tbody>\n",
       "    <tr>\n",
       "      <th>19457</th>\n",
       "      <td>3.400000</td>\n",
       "      <td>3.000000</td>\n",
       "      <td>2.950000</td>\n",
       "      <td>1</td>\n",
       "      <td>20</td>\n",
       "      <td>20</td>\n",
       "      <td>20</td>\n",
       "    </tr>\n",
       "    <tr>\n",
       "      <th>25689</th>\n",
       "      <td>0.000000</td>\n",
       "      <td>0.000000</td>\n",
       "      <td>0.000000</td>\n",
       "      <td>2</td>\n",
       "      <td>1</td>\n",
       "      <td>1</td>\n",
       "      <td>1</td>\n",
       "    </tr>\n",
       "    <tr>\n",
       "      <th>25690</th>\n",
       "      <td>0.000000</td>\n",
       "      <td>0.000000</td>\n",
       "      <td>0.000000</td>\n",
       "      <td>3</td>\n",
       "      <td>1</td>\n",
       "      <td>1</td>\n",
       "      <td>1</td>\n",
       "    </tr>\n",
       "    <tr>\n",
       "      <th>25691</th>\n",
       "      <td>0.000000</td>\n",
       "      <td>0.000000</td>\n",
       "      <td>0.000000</td>\n",
       "      <td>4</td>\n",
       "      <td>1</td>\n",
       "      <td>1</td>\n",
       "      <td>1</td>\n",
       "    </tr>\n",
       "    <tr>\n",
       "      <th>7559</th>\n",
       "      <td>4.368421</td>\n",
       "      <td>4.263158</td>\n",
       "      <td>4.263158</td>\n",
       "      <td>5</td>\n",
       "      <td>19</td>\n",
       "      <td>19</td>\n",
       "      <td>19</td>\n",
       "    </tr>\n",
       "  </tbody>\n",
       "</table>\n",
       "</div>"
      ],
      "text/plain": [
       "       Cleanliness_Score  Condition_Score  Comfort_Score  hotelID  \\\n",
       "19457           3.400000         3.000000       2.950000        1   \n",
       "25689           0.000000         0.000000       0.000000        2   \n",
       "25690           0.000000         0.000000       0.000000        3   \n",
       "25691           0.000000         0.000000       0.000000        4   \n",
       "7559            4.368421         4.263158       4.263158        5   \n",
       "\n",
       "       Expedia_Cleanliness  Expedia_RoomComfort  Expedia_HotelCondition  \n",
       "19457                   20                   20                      20  \n",
       "25689                    1                    1                       1  \n",
       "25690                    1                    1                       1  \n",
       "25691                    1                    1                       1  \n",
       "7559                    19                   19                      19  "
      ]
     },
     "execution_count": 10,
     "metadata": {},
     "output_type": "execute_result"
    }
   ],
   "source": [
    "expedia_OSAT_result = expedia_OSAT_scores.merge(expedia_OSAT_scores_count,how = 'outer',on = 'hotelID')\n",
    "expedia_OSAT_result.sort('hotelID').head(5)"
   ]
  },
  {
   "cell_type": "code",
   "execution_count": 11,
   "metadata": {
    "collapsed": false
   },
   "outputs": [
    {
     "data": {
      "text/html": [
       "<div>\n",
       "<table border=\"1\" class=\"dataframe\">\n",
       "  <thead>\n",
       "    <tr style=\"text-align: right;\">\n",
       "      <th></th>\n",
       "      <th>hotelID</th>\n",
       "      <th>Number Of Surveys</th>\n",
       "      <th>Cleanliness_Score</th>\n",
       "      <th>Comfort_Score</th>\n",
       "      <th>Condition_Score</th>\n",
       "    </tr>\n",
       "  </thead>\n",
       "  <tbody>\n",
       "    <tr>\n",
       "      <th>0</th>\n",
       "      <td>95</td>\n",
       "      <td>2</td>\n",
       "      <td>5.0</td>\n",
       "      <td>5.0</td>\n",
       "      <td>5.0</td>\n",
       "    </tr>\n",
       "    <tr>\n",
       "      <th>1</th>\n",
       "      <td>219</td>\n",
       "      <td>3</td>\n",
       "      <td>5.0</td>\n",
       "      <td>5.0</td>\n",
       "      <td>5.0</td>\n",
       "    </tr>\n",
       "    <tr>\n",
       "      <th>2</th>\n",
       "      <td>401</td>\n",
       "      <td>1</td>\n",
       "      <td>5.0</td>\n",
       "      <td>5.0</td>\n",
       "      <td>5.0</td>\n",
       "    </tr>\n",
       "    <tr>\n",
       "      <th>3</th>\n",
       "      <td>530</td>\n",
       "      <td>3</td>\n",
       "      <td>5.0</td>\n",
       "      <td>5.0</td>\n",
       "      <td>5.0</td>\n",
       "    </tr>\n",
       "    <tr>\n",
       "      <th>4</th>\n",
       "      <td>630</td>\n",
       "      <td>1</td>\n",
       "      <td>5.0</td>\n",
       "      <td>5.0</td>\n",
       "      <td>5.0</td>\n",
       "    </tr>\n",
       "  </tbody>\n",
       "</table>\n",
       "</div>"
      ],
      "text/plain": [
       "   hotelID  Number Of Surveys  Cleanliness_Score  Comfort_Score  \\\n",
       "0       95                  2                5.0            5.0   \n",
       "1      219                  3                5.0            5.0   \n",
       "2      401                  1                5.0            5.0   \n",
       "3      530                  3                5.0            5.0   \n",
       "4      630                  1                5.0            5.0   \n",
       "\n",
       "   Condition_Score  \n",
       "0              5.0  \n",
       "1              5.0  \n",
       "2              5.0  \n",
       "3              5.0  \n",
       "4              5.0  "
      ]
     },
     "execution_count": 11,
     "metadata": {},
     "output_type": "execute_result"
    }
   ],
   "source": [
    "#expedia_OSAT_result  = expedia_OSAT_result.drop(['Expedia_RoomComfort','Expedia_HotelCondition'],1)\n",
    "expedia_OSAT_result = expedia_OSAT_result.rename(index = str,columns={\"Expedia_Cleanliness\":\"Number Of Surveys\"})\n",
    "expedia_OSAT_result= expedia_OSAT_result[['hotelID','Number Of Surveys','Cleanliness_Score','Comfort_Score','Condition_Score']] \n",
    "#expedia_OSAT_result['Overall Recommended Score'] = (expedia_OSAT_result['Cleanliness_Score'] + expedia_OSAT_result['Comfort_Score']+ expedia_OSAT_result['Condition_Score'])/(expedia_OSAT_result['Number Of Surveys'])\n",
    "expedia_OSAT_result.head(5)"
   ]
  },
  {
   "cell_type": "code",
   "execution_count": 12,
   "metadata": {
    "collapsed": false
   },
   "outputs": [
    {
     "name": "stdout",
     "output_type": "stream",
     "text": [
      "Counts that appear less than 2 times: hotelID               0.00\n",
      "Number Of Surveys    67.69\n",
      "Cleanliness_Score    80.96\n",
      "Comfort_Score        80.95\n",
      "Condition_Score      81.43\n",
      "dtype: float64%\n",
      "Counts that appear less than 10 times: hotelID                0.01\n",
      "Number Of Surveys     83.14\n",
      "Cleanliness_Score    100.00\n",
      "Comfort_Score        100.00\n",
      "Condition_Score      100.00\n",
      "dtype: float64%\n",
      "Counts that appear less than 15 times: hotelID                0.01\n",
      "Number Of Surveys     84.08\n",
      "Cleanliness_Score    100.00\n",
      "Comfort_Score        100.00\n",
      "Condition_Score      100.00\n",
      "dtype: float64%\n",
      "Counts that appear less than 25 times: hotelID                0.02\n",
      "Number Of Surveys     97.37\n",
      "Cleanliness_Score    100.00\n",
      "Comfort_Score        100.00\n",
      "Condition_Score      100.00\n",
      "dtype: float64%\n",
      "Counts that appear less than 50 times: hotelID                0.03\n",
      "Number Of Surveys     99.62\n",
      "Cleanliness_Score    100.00\n",
      "Comfort_Score        100.00\n",
      "Condition_Score      100.00\n",
      "dtype: float64%\n"
     ]
    },
    {
     "data": {
      "image/png": "[encoded data removed]",
      "text/plain": [
       "<matplotlib.figure.Figure at 0x1a2844ae0f0>"
      ]
     },
     "metadata": {},
     "output_type": "display_data"
    }
   ],
   "source": [
    "#expedia_OSAT_scores_count\n",
    "for i in [2, 10, 15,25 ,50]:\n",
    "    print('Counts that appear less than {} times: {}%'.format(i, round((expedia_OSAT_result < i).mean() * 100, 2)))\n",
    "plt.figure(figsize=(12, 6))\n",
    "plt.hist(expedia_OSAT_scores_count.values, bins=20, log=True)\n",
    "plt.xlabel('Number of ratings appeared', fontsize=12)\n",
    "plt.ylabel('log(Count of ratings with hotel)', fontsize=12)\n",
    "plt.show()"
   ]
  },
  {
   "cell_type": "markdown",
   "metadata": {},
   "source": [
    "# The flaw with using such type of scores is that scores with very small number of views can get inflated probability for better score.\n",
    "\n",
    "For example, let's say there was an survey score with all scores as 4 (Cleanliness, comfort and condition = 4) for 2 surveys in hote A, there was another hotel b with 1000 surveys and 800 scoores of 4 (Cleanliness, comfort and condition = 4).\n",
    "\n",
    "Both will come to same ranking and hence the there will be injustice done to the hotel B with more number of surveys.\n",
    "\n",
    "However, I would argue that the second hotel should be preferred, because it has a track record of being surveyed very often, while the one with two surveys does not have enough data to say that the true choice of it being surveyed as 4."
   ]
  },
  {
   "cell_type": "markdown",
   "metadata": {},
   "source": [
    "Because of this, I add a term that penalizes hotel surveys with smaller surveys, therefore making it easy to recommend hotel with large amounts of survey data and a reliable probability. \n",
    "\n",
    "I do this by adding a fixed amount to the total of each survey (regularization factor = 15), which will reduce the probabilities of all survey counts, but will reduce the probabilities of smaller survey data with less number.\n",
    "\n",
    "If we apply this to my earlier scenario, for the first ad we get hotel A probability of 2/(2+15) = 0.12, while the second hotel B gets adjusted probability of 800/(1000+15) = 0.78, therefore ranking the second hotel will be ahead."
   ]
  },
  {
   "cell_type": "code",
   "execution_count": 13,
   "metadata": {
    "collapsed": true
   },
   "outputs": [],
   "source": [
    "reg = 15"
   ]
  },
  {
   "cell_type": "markdown",
   "metadata": {},
   "source": [
    "# We combine the three CSV sheets - Sentimental score sheet, Word phrase sheet and the original CSV sheet to make a combined sheet for recommending a hotel to user based on all three factors.\n"
   ]
  },
  {
   "cell_type": "markdown",
   "metadata": {},
   "source": [
    "**Steps:** \n",
    "- Loading all the three csv sheets and combine on hotelids\n",
    "- Using many functions for getting user inputs based on his selection of city, country and recommending a centralised data for selection of the hotels. Such type of recommendations is called as collaborative filtering"
   ]
  },
  {
   "cell_type": "code",
   "execution_count": 13,
   "metadata": {
    "collapsed": false
   },
   "outputs": [],
   "source": [
    "hotelid_API_senti_scores = pd.read_csv(currentWD+\"\\\\\"+\"CSV_Output\"+\"\\\\\"+\"hotelid_with_Microsoft_API_senti_scores.csv\")"
   ]
  },
  {
   "cell_type": "code",
   "execution_count": 14,
   "metadata": {
    "collapsed": false
   },
   "outputs": [
    {
     "data": {
      "text/html": [
       "<div>\n",
       "<table border=\"1\" class=\"dataframe\">\n",
       "  <thead>\n",
       "    <tr style=\"text-align: right;\">\n",
       "      <th></th>\n",
       "      <th>hotelID</th>\n",
       "      <th>sentiscore</th>\n",
       "    </tr>\n",
       "  </thead>\n",
       "  <tbody>\n",
       "    <tr>\n",
       "      <th>0</th>\n",
       "      <td>893</td>\n",
       "      <td>0.88</td>\n",
       "    </tr>\n",
       "    <tr>\n",
       "      <th>1</th>\n",
       "      <td>893</td>\n",
       "      <td>0.92</td>\n",
       "    </tr>\n",
       "    <tr>\n",
       "      <th>2</th>\n",
       "      <td>893</td>\n",
       "      <td>1.00</td>\n",
       "    </tr>\n",
       "    <tr>\n",
       "      <th>3</th>\n",
       "      <td>893</td>\n",
       "      <td>0.99</td>\n",
       "    </tr>\n",
       "    <tr>\n",
       "      <th>4</th>\n",
       "      <td>893</td>\n",
       "      <td>0.03</td>\n",
       "    </tr>\n",
       "  </tbody>\n",
       "</table>\n",
       "</div>"
      ],
      "text/plain": [
       "   hotelID  sentiscore\n",
       "0      893        0.88\n",
       "1      893        0.92\n",
       "2      893        1.00\n",
       "3      893        0.99\n",
       "4      893        0.03"
      ]
     },
     "execution_count": 14,
     "metadata": {},
     "output_type": "execute_result"
    }
   ],
   "source": [
    "hotelid_API_senti_scores = hotelid_API_senti_scores[['hotelID','sentiscore']]\n",
    "hotelid_API_senti_scores.head(5)"
   ]
  },
  {
   "cell_type": "code",
   "execution_count": 15,
   "metadata": {
    "collapsed": false
   },
   "outputs": [
    {
     "data": {
      "text/html": [
       "<div>\n",
       "<table border=\"1\" class=\"dataframe\">\n",
       "  <thead>\n",
       "    <tr style=\"text-align: right;\">\n",
       "      <th></th>\n",
       "      <th>sentiscore</th>\n",
       "      <th>hotelID</th>\n",
       "    </tr>\n",
       "    <tr>\n",
       "      <th>hotelID</th>\n",
       "      <th></th>\n",
       "      <th></th>\n",
       "    </tr>\n",
       "  </thead>\n",
       "  <tbody>\n",
       "    <tr>\n",
       "      <th>1</th>\n",
       "      <td>0.484500</td>\n",
       "      <td>1</td>\n",
       "    </tr>\n",
       "    <tr>\n",
       "      <th>5</th>\n",
       "      <td>0.473684</td>\n",
       "      <td>5</td>\n",
       "    </tr>\n",
       "    <tr>\n",
       "      <th>8</th>\n",
       "      <td>0.515500</td>\n",
       "      <td>8</td>\n",
       "    </tr>\n",
       "  </tbody>\n",
       "</table>\n",
       "</div>"
      ],
      "text/plain": [
       "         sentiscore  hotelID\n",
       "hotelID                     \n",
       "1          0.484500        1\n",
       "5          0.473684        5\n",
       "8          0.515500        8"
      ]
     },
     "execution_count": 15,
     "metadata": {},
     "output_type": "execute_result"
    }
   ],
   "source": [
    "hotelid_API_senti_scores_sum_hotels = hotelid_API_senti_scores.groupby('hotelID').sum()\n",
    "hotelid_API_senti_scores_count_hotels = hotelid_API_senti_scores.groupby('hotelID').count()\n",
    "hotelid_API_senti_scores_average_sentiscore_hotels = hotelid_API_senti_scores_sum_hotels/hotelid_API_senti_scores_count_hotels\n",
    "hotelid_API_senti_scores_average_sentiscore_hotels['hotelID'] = hotelid_API_senti_scores_average_sentiscore_hotels.index\n",
    "hotelid_API_senti_scores_average_sentiscore_hotels = hotelid_API_senti_scores_average_sentiscore_hotels[['sentiscore','hotelID']]\n",
    "hotelid_API_senti_scores_average_sentiscore_hotels.head(3)"
   ]
  },
  {
   "cell_type": "code",
   "execution_count": 16,
   "metadata": {
    "collapsed": false
   },
   "outputs": [],
   "source": [
    "hotelid_API_keyPhrases = pd.read_csv(currentWD+\"\\\\\"+\"CSV_Output\"+\"\\\\\"+\"hotelid_with_microsoft_API_keyPhrases.csv\")"
   ]
  },
  {
   "cell_type": "code",
   "execution_count": 17,
   "metadata": {
    "collapsed": false
   },
   "outputs": [
    {
     "data": {
      "text/html": [
       "<div>\n",
       "<table border=\"1\" class=\"dataframe\">\n",
       "  <thead>\n",
       "    <tr style=\"text-align: right;\">\n",
       "      <th></th>\n",
       "      <th>hotelID</th>\n",
       "      <th>keywords1</th>\n",
       "      <th>keywords2</th>\n",
       "      <th>keywords3</th>\n",
       "    </tr>\n",
       "  </thead>\n",
       "  <tbody>\n",
       "    <tr>\n",
       "      <th>0</th>\n",
       "      <td>893</td>\n",
       "      <td>nice perk</td>\n",
       "      <td>dam kids</td>\n",
       "      <td>NaN</td>\n",
       "    </tr>\n",
       "    <tr>\n",
       "      <th>1</th>\n",
       "      <td>11622</td>\n",
       "      <td>Clean rooms</td>\n",
       "      <td>Pool</td>\n",
       "      <td>weekend</td>\n",
       "    </tr>\n",
       "    <tr>\n",
       "      <th>2</th>\n",
       "      <td>11826</td>\n",
       "      <td>floor guests</td>\n",
       "      <td>good food hot</td>\n",
       "      <td>beer</td>\n",
       "    </tr>\n",
       "    <tr>\n",
       "      <th>3</th>\n",
       "      <td>39993</td>\n",
       "      <td>floor guests</td>\n",
       "      <td>negative feelings</td>\n",
       "      <td>NaN</td>\n",
       "    </tr>\n",
       "    <tr>\n",
       "      <th>4</th>\n",
       "      <td>64344</td>\n",
       "      <td>noise</td>\n",
       "      <td>YO bottle of Jameson</td>\n",
       "      <td>clerk service</td>\n",
       "    </tr>\n",
       "  </tbody>\n",
       "</table>\n",
       "</div>"
      ],
      "text/plain": [
       "   hotelID     keywords1             keywords2      keywords3\n",
       "0      893     nice perk              dam kids            NaN\n",
       "1    11622   Clean rooms                  Pool        weekend\n",
       "2    11826  floor guests         good food hot           beer\n",
       "3    39993  floor guests     negative feelings            NaN\n",
       "4    64344         noise  YO bottle of Jameson  clerk service"
      ]
     },
     "execution_count": 17,
     "metadata": {},
     "output_type": "execute_result"
    }
   ],
   "source": [
    "hotelid_API_keyPhrases.head(5)"
   ]
  },
  {
   "cell_type": "code",
   "execution_count": 18,
   "metadata": {
    "collapsed": true
   },
   "outputs": [],
   "source": [
    "microsoft_api_data_total = hotelid_API_keyPhrases.merge(hotelid_API_senti_scores_average_sentiscore_hotels,how='outer')"
   ]
  },
  {
   "cell_type": "code",
   "execution_count": 19,
   "metadata": {
    "collapsed": false
   },
   "outputs": [
    {
     "data": {
      "text/html": [
       "<div>\n",
       "<table border=\"1\" class=\"dataframe\">\n",
       "  <thead>\n",
       "    <tr style=\"text-align: right;\">\n",
       "      <th></th>\n",
       "      <th>hotelID</th>\n",
       "      <th>keywords1</th>\n",
       "      <th>keywords2</th>\n",
       "      <th>keywords3</th>\n",
       "      <th>sentiscore</th>\n",
       "    </tr>\n",
       "  </thead>\n",
       "  <tbody>\n",
       "    <tr>\n",
       "      <th>0</th>\n",
       "      <td>893</td>\n",
       "      <td>nice perk</td>\n",
       "      <td>dam kids</td>\n",
       "      <td>NaN</td>\n",
       "      <td>0.832632</td>\n",
       "    </tr>\n",
       "    <tr>\n",
       "      <th>1</th>\n",
       "      <td>11622</td>\n",
       "      <td>Clean rooms</td>\n",
       "      <td>Pool</td>\n",
       "      <td>weekend</td>\n",
       "      <td>0.623750</td>\n",
       "    </tr>\n",
       "    <tr>\n",
       "      <th>2</th>\n",
       "      <td>11826</td>\n",
       "      <td>floor guests</td>\n",
       "      <td>good food hot</td>\n",
       "      <td>beer</td>\n",
       "      <td>0.406875</td>\n",
       "    </tr>\n",
       "  </tbody>\n",
       "</table>\n",
       "</div>"
      ],
      "text/plain": [
       "   hotelID     keywords1      keywords2 keywords3  sentiscore\n",
       "0      893     nice perk       dam kids       NaN    0.832632\n",
       "1    11622   Clean rooms           Pool   weekend    0.623750\n",
       "2    11826  floor guests  good food hot      beer    0.406875"
      ]
     },
     "execution_count": 19,
     "metadata": {},
     "output_type": "execute_result"
    }
   ],
   "source": [
    "microsoft_api_data_total.head(3)"
   ]
  },
  {
   "cell_type": "code",
   "execution_count": 20,
   "metadata": {
    "collapsed": true
   },
   "outputs": [],
   "source": [
    "microsoft_api_data_total.to_csv('microsoft_api_data_total_combined.csv')"
   ]
  },
  {
   "cell_type": "code",
   "execution_count": 21,
   "metadata": {
    "collapsed": true
   },
   "outputs": [],
   "source": [
    "# Now we use the main file and read the data and comvbine all our work to make centralised dataset for user based recommendation systems"
   ]
  },
  {
   "cell_type": "code",
   "execution_count": 28,
   "metadata": {
    "collapsed": false
   },
   "outputs": [
    {
     "name": "stderr",
     "output_type": "stream",
     "text": [
      "C:\\Users\\Jay Padhya\\Anaconda3\\New\\lib\\site-packages\\IPython\\core\\interactiveshell.py:2717: DtypeWarning: Columns (3,4) have mixed types. Specify dtype option on import or set low_memory=False.\n",
      "  interactivity=interactivity, compiler=compiler, result=result)\n"
     ]
    }
   ],
   "source": [
    "test_data = pd.read_csv('test.csv')\n",
    "expedia_comments = pd.read_csv('reviews_clean_flitered.txt',names=[\"hotelID\",\"Expedia_User_Comments\",\"Expedia_Cleanliness\",\"Expedia_RoomComfort\",\"Expedia_HotelCondition\"],sep=\"^\")\n",
    "expedia_comments_sum = expedia_comments.groupby('hotelID').sum()\n",
    "expedia_comments_sum['hotelID'] = expedia_comments_sum.index"
   ]
  },
  {
   "cell_type": "code",
   "execution_count": 29,
   "metadata": {
    "collapsed": false
   },
   "outputs": [],
   "source": [
    "expedia_comments_sum_merge_microsoft_api = expedia_comments_sum.merge(microsoft_api_data_total,how='outer')"
   ]
  },
  {
   "cell_type": "code",
   "execution_count": 30,
   "metadata": {
    "collapsed": false
   },
   "outputs": [],
   "source": [
    "expedia_comments_sum_merge_microsoft_api.replace('  ', np.nan, inplace=True)\n",
    "expedia_comments_sum_merge_microsoft_api = expedia_comments_sum_merge_microsoft_api.dropna()"
   ]
  },
  {
   "cell_type": "code",
   "execution_count": 31,
   "metadata": {
    "collapsed": false
   },
   "outputs": [
    {
     "data": {
      "text/html": [
       "<div>\n",
       "<table border=\"1\" class=\"dataframe\">\n",
       "  <thead>\n",
       "    <tr style=\"text-align: right;\">\n",
       "      <th></th>\n",
       "      <th>Expedia_User_Comments</th>\n",
       "      <th>hotelID</th>\n",
       "      <th>keywords1</th>\n",
       "      <th>keywords2</th>\n",
       "      <th>keywords3</th>\n",
       "      <th>sentiscore</th>\n",
       "    </tr>\n",
       "  </thead>\n",
       "  <tbody>\n",
       "    <tr>\n",
       "      <th>8</th>\n",
       "      <td>Our stay was fine the only problem was gettin...</td>\n",
       "      <td>9</td>\n",
       "      <td>floor guests</td>\n",
       "      <td>good food hot</td>\n",
       "      <td>beer</td>\n",
       "      <td>0.408947</td>\n",
       "    </tr>\n",
       "    <tr>\n",
       "      <th>14</th>\n",
       "      <td>I am very picky, so I sure will stay again an...</td>\n",
       "      <td>15</td>\n",
       "      <td>issue</td>\n",
       "      <td>mixed drink</td>\n",
       "      <td>negative feelings</td>\n",
       "      <td>0.070000</td>\n",
       "    </tr>\n",
       "    <tr>\n",
       "      <th>36</th>\n",
       "      <td>Ideal hotel for families.  Facilities okay.  ...</td>\n",
       "      <td>39</td>\n",
       "      <td>Pizza</td>\n",
       "      <td>wife</td>\n",
       "      <td>dam kids</td>\n",
       "      <td>0.498333</td>\n",
       "    </tr>\n",
       "  </tbody>\n",
       "</table>\n",
       "</div>"
      ],
      "text/plain": [
       "                                Expedia_User_Comments  hotelID     keywords1  \\\n",
       "8    Our stay was fine the only problem was gettin...        9  floor guests   \n",
       "14   I am very picky, so I sure will stay again an...       15         issue   \n",
       "36   Ideal hotel for families.  Facilities okay.  ...       39         Pizza   \n",
       "\n",
       "        keywords2          keywords3  sentiscore  \n",
       "8   good food hot               beer    0.408947  \n",
       "14    mixed drink  negative feelings    0.070000  \n",
       "36           wife           dam kids    0.498333  "
      ]
     },
     "execution_count": 31,
     "metadata": {},
     "output_type": "execute_result"
    }
   ],
   "source": [
    "expedia_comments_sum_merge_microsoft_api.head(3)"
   ]
  },
  {
   "cell_type": "code",
   "execution_count": 32,
   "metadata": {
    "collapsed": true
   },
   "outputs": [],
   "source": [
    "test_data['date_time'] = pd.to_datetime(test_data['date_time']) # Converting into Date Time"
   ]
  },
  {
   "cell_type": "code",
   "execution_count": 33,
   "metadata": {
    "collapsed": false
   },
   "outputs": [
    {
     "data": {
      "text/html": [
       "<div>\n",
       "<table border=\"1\" class=\"dataframe\">\n",
       "  <thead>\n",
       "    <tr style=\"text-align: right;\">\n",
       "      <th></th>\n",
       "      <th>user_id</th>\n",
       "      <th>posa_continent</th>\n",
       "      <th>user_location_country</th>\n",
       "      <th>user_location_region</th>\n",
       "      <th>user_location_city</th>\n",
       "      <th>hotel_continent</th>\n",
       "      <th>hotel_country</th>\n",
       "      <th>srch_destination_id</th>\n",
       "      <th>srch_adults_cnt</th>\n",
       "      <th>srch_children_cnt</th>\n",
       "      <th>srch_rm_cnt</th>\n",
       "      <th>is_booking</th>\n",
       "      <th>ratings</th>\n",
       "      <th>pricepaid</th>\n",
       "    </tr>\n",
       "  </thead>\n",
       "  <tbody>\n",
       "    <tr>\n",
       "      <th>0</th>\n",
       "      <td>1</td>\n",
       "      <td>3</td>\n",
       "      <td>66</td>\n",
       "      <td>174</td>\n",
       "      <td>37449</td>\n",
       "      <td>6</td>\n",
       "      <td>204</td>\n",
       "      <td>12243</td>\n",
       "      <td>2</td>\n",
       "      <td>0</td>\n",
       "      <td>1</td>\n",
       "      <td>1</td>\n",
       "      <td>5</td>\n",
       "      <td>1705</td>\n",
       "    </tr>\n",
       "    <tr>\n",
       "      <th>1</th>\n",
       "      <td>1</td>\n",
       "      <td>3</td>\n",
       "      <td>66</td>\n",
       "      <td>174</td>\n",
       "      <td>37449</td>\n",
       "      <td>6</td>\n",
       "      <td>204</td>\n",
       "      <td>14474</td>\n",
       "      <td>2</td>\n",
       "      <td>0</td>\n",
       "      <td>1</td>\n",
       "      <td>1</td>\n",
       "      <td>7</td>\n",
       "      <td>1743</td>\n",
       "    </tr>\n",
       "    <tr>\n",
       "      <th>2</th>\n",
       "      <td>20</td>\n",
       "      <td>3</td>\n",
       "      <td>66</td>\n",
       "      <td>142</td>\n",
       "      <td>17440</td>\n",
       "      <td>2</td>\n",
       "      <td>50</td>\n",
       "      <td>11353</td>\n",
       "      <td>4</td>\n",
       "      <td>0</td>\n",
       "      <td>1</td>\n",
       "      <td>1</td>\n",
       "      <td>7</td>\n",
       "      <td>3699</td>\n",
       "    </tr>\n",
       "    <tr>\n",
       "      <th>3</th>\n",
       "      <td>28</td>\n",
       "      <td>3</td>\n",
       "      <td>66</td>\n",
       "      <td>258</td>\n",
       "      <td>34156</td>\n",
       "      <td>2</td>\n",
       "      <td>50</td>\n",
       "      <td>8250</td>\n",
       "      <td>2</td>\n",
       "      <td>0</td>\n",
       "      <td>1</td>\n",
       "      <td>1</td>\n",
       "      <td>9</td>\n",
       "      <td>3758</td>\n",
       "    </tr>\n",
       "    <tr>\n",
       "      <th>4</th>\n",
       "      <td>50</td>\n",
       "      <td>3</td>\n",
       "      <td>66</td>\n",
       "      <td>467</td>\n",
       "      <td>36345</td>\n",
       "      <td>2</td>\n",
       "      <td>50</td>\n",
       "      <td>11812</td>\n",
       "      <td>2</td>\n",
       "      <td>0</td>\n",
       "      <td>1</td>\n",
       "      <td>0</td>\n",
       "      <td>4</td>\n",
       "      <td>1655</td>\n",
       "    </tr>\n",
       "  </tbody>\n",
       "</table>\n",
       "</div>"
      ],
      "text/plain": [
       "   user_id  posa_continent  user_location_country  user_location_region  \\\n",
       "0        1               3                     66                   174   \n",
       "1        1               3                     66                   174   \n",
       "2       20               3                     66                   142   \n",
       "3       28               3                     66                   258   \n",
       "4       50               3                     66                   467   \n",
       "\n",
       "   user_location_city  hotel_continent  hotel_country  srch_destination_id  \\\n",
       "0               37449                6            204                12243   \n",
       "1               37449                6            204                14474   \n",
       "2               17440                2             50                11353   \n",
       "3               34156                2             50                 8250   \n",
       "4               36345                2             50                11812   \n",
       "\n",
       "   srch_adults_cnt  srch_children_cnt  srch_rm_cnt  is_booking  ratings  \\\n",
       "0                2                  0            1           1        5   \n",
       "1                2                  0            1           1        7   \n",
       "2                4                  0            1           1        7   \n",
       "3                2                  0            1           1        9   \n",
       "4                2                  0            1           0        4   \n",
       "\n",
       "   pricepaid  \n",
       "0       1705  \n",
       "1       1743  \n",
       "2       3699  \n",
       "3       3758  \n",
       "4       1655  "
      ]
     },
     "execution_count": 33,
     "metadata": {},
     "output_type": "execute_result"
    }
   ],
   "source": [
    "select_data = test_data[['user_id','posa_continent','user_location_country','user_location_region','user_location_city','hotel_continent','hotel_country','srch_destination_id','srch_adults_cnt','srch_children_cnt','srch_rm_cnt','is_booking','ratings','pricepaid']]\n",
    "select_data.head()"
   ]
  },
  {
   "cell_type": "code",
   "execution_count": 44,
   "metadata": {
    "collapsed": true
   },
   "outputs": [],
   "source": [
    "# selecting only thos who have booked for user recommendation"
   ]
  },
  {
   "cell_type": "code",
   "execution_count": 34,
   "metadata": {
    "collapsed": false
   },
   "outputs": [],
   "source": [
    "select_data_booked = select_data.loc[select_data['is_booking']==1]"
   ]
  },
  {
   "cell_type": "code",
   "execution_count": 35,
   "metadata": {
    "collapsed": false
   },
   "outputs": [
    {
     "data": {
      "text/html": [
       "<div>\n",
       "<table border=\"1\" class=\"dataframe\">\n",
       "  <thead>\n",
       "    <tr style=\"text-align: right;\">\n",
       "      <th></th>\n",
       "      <th>user_id</th>\n",
       "      <th>posa_continent</th>\n",
       "      <th>user_location_country</th>\n",
       "      <th>user_location_region</th>\n",
       "      <th>user_location_city</th>\n",
       "      <th>hotel_continent</th>\n",
       "      <th>hotel_country</th>\n",
       "      <th>srch_destination_id</th>\n",
       "      <th>srch_adults_cnt</th>\n",
       "      <th>srch_children_cnt</th>\n",
       "      <th>srch_rm_cnt</th>\n",
       "      <th>is_booking</th>\n",
       "      <th>ratings</th>\n",
       "      <th>pricepaid</th>\n",
       "    </tr>\n",
       "  </thead>\n",
       "  <tbody>\n",
       "    <tr>\n",
       "      <th>0</th>\n",
       "      <td>1</td>\n",
       "      <td>3</td>\n",
       "      <td>66</td>\n",
       "      <td>174</td>\n",
       "      <td>37449</td>\n",
       "      <td>6</td>\n",
       "      <td>204</td>\n",
       "      <td>12243</td>\n",
       "      <td>2</td>\n",
       "      <td>0</td>\n",
       "      <td>1</td>\n",
       "      <td>1</td>\n",
       "      <td>5</td>\n",
       "      <td>1705</td>\n",
       "    </tr>\n",
       "    <tr>\n",
       "      <th>1</th>\n",
       "      <td>1</td>\n",
       "      <td>3</td>\n",
       "      <td>66</td>\n",
       "      <td>174</td>\n",
       "      <td>37449</td>\n",
       "      <td>6</td>\n",
       "      <td>204</td>\n",
       "      <td>14474</td>\n",
       "      <td>2</td>\n",
       "      <td>0</td>\n",
       "      <td>1</td>\n",
       "      <td>1</td>\n",
       "      <td>7</td>\n",
       "      <td>1743</td>\n",
       "    </tr>\n",
       "    <tr>\n",
       "      <th>2</th>\n",
       "      <td>20</td>\n",
       "      <td>3</td>\n",
       "      <td>66</td>\n",
       "      <td>142</td>\n",
       "      <td>17440</td>\n",
       "      <td>2</td>\n",
       "      <td>50</td>\n",
       "      <td>11353</td>\n",
       "      <td>4</td>\n",
       "      <td>0</td>\n",
       "      <td>1</td>\n",
       "      <td>1</td>\n",
       "      <td>7</td>\n",
       "      <td>3699</td>\n",
       "    </tr>\n",
       "  </tbody>\n",
       "</table>\n",
       "</div>"
      ],
      "text/plain": [
       "   user_id  posa_continent  user_location_country  user_location_region  \\\n",
       "0        1               3                     66                   174   \n",
       "1        1               3                     66                   174   \n",
       "2       20               3                     66                   142   \n",
       "\n",
       "   user_location_city  hotel_continent  hotel_country  srch_destination_id  \\\n",
       "0               37449                6            204                12243   \n",
       "1               37449                6            204                14474   \n",
       "2               17440                2             50                11353   \n",
       "\n",
       "   srch_adults_cnt  srch_children_cnt  srch_rm_cnt  is_booking  ratings  \\\n",
       "0                2                  0            1           1        5   \n",
       "1                2                  0            1           1        7   \n",
       "2                4                  0            1           1        7   \n",
       "\n",
       "   pricepaid  \n",
       "0       1705  \n",
       "1       1743  \n",
       "2       3699  "
      ]
     },
     "execution_count": 35,
     "metadata": {},
     "output_type": "execute_result"
    }
   ],
   "source": [
    "select_data_booked.head(3)"
   ]
  },
  {
   "cell_type": "code",
   "execution_count": 36,
   "metadata": {
    "collapsed": false
   },
   "outputs": [],
   "source": [
    "select_data_booked_count = select_data_booked.groupby(['user_location_city','hotel_continent','hotel_country','srch_destination_id']).size().reset_index(name='Number_Booking')"
   ]
  },
  {
   "cell_type": "code",
   "execution_count": 50,
   "metadata": {
    "collapsed": false
   },
   "outputs": [
    {
     "data": {
      "text/html": [
       "<div>\n",
       "<table border=\"1\" class=\"dataframe\">\n",
       "  <thead>\n",
       "    <tr style=\"text-align: right;\">\n",
       "      <th></th>\n",
       "      <th>user_location_city</th>\n",
       "      <th>hotel_continent</th>\n",
       "      <th>hotel_country</th>\n",
       "      <th>srch_destination_id</th>\n",
       "      <th>Number_Booking</th>\n",
       "    </tr>\n",
       "  </thead>\n",
       "  <tbody>\n",
       "    <tr>\n",
       "      <th>0</th>\n",
       "      <td>0</td>\n",
       "      <td>0</td>\n",
       "      <td>34</td>\n",
       "      <td>6061</td>\n",
       "      <td>1</td>\n",
       "    </tr>\n",
       "    <tr>\n",
       "      <th>1</th>\n",
       "      <td>0</td>\n",
       "      <td>0</td>\n",
       "      <td>34</td>\n",
       "      <td>22298</td>\n",
       "      <td>1</td>\n",
       "    </tr>\n",
       "    <tr>\n",
       "      <th>2</th>\n",
       "      <td>0</td>\n",
       "      <td>2</td>\n",
       "      <td>50</td>\n",
       "      <td>669</td>\n",
       "      <td>1</td>\n",
       "    </tr>\n",
       "    <tr>\n",
       "      <th>3</th>\n",
       "      <td>0</td>\n",
       "      <td>2</td>\n",
       "      <td>50</td>\n",
       "      <td>7635</td>\n",
       "      <td>1</td>\n",
       "    </tr>\n",
       "  </tbody>\n",
       "</table>\n",
       "</div>"
      ],
      "text/plain": [
       "   user_location_city  hotel_continent  hotel_country  srch_destination_id  \\\n",
       "0                   0                0             34                 6061   \n",
       "1                   0                0             34                22298   \n",
       "2                   0                2             50                  669   \n",
       "3                   0                2             50                 7635   \n",
       "\n",
       "   Number_Booking  \n",
       "0               1  \n",
       "1               1  \n",
       "2               1  \n",
       "3               1  "
      ]
     },
     "execution_count": 50,
     "metadata": {},
     "output_type": "execute_result"
    }
   ],
   "source": [
    "select_data_booked_count = pd.DataFrame(select_data_booked_count)\n",
    "select_data_booked_count.head(4)"
   ]
  },
  {
   "cell_type": "code",
   "execution_count": 51,
   "metadata": {
    "collapsed": false
   },
   "outputs": [
    {
     "name": "stderr",
     "output_type": "stream",
     "text": [
      "C:\\Users\\Jay Padhya\\Anaconda3\\New\\lib\\site-packages\\ipykernel\\__main__.py:1: FutureWarning: sort(columns=....) is deprecated, use sort_values(by=.....)\n",
      "  if __name__ == '__main__':\n"
     ]
    }
   ],
   "source": [
    "select_data_booked_sorted_count = select_data_booked_count.sort(['user_location_city','hotel_continent','hotel_country','Number_Booking'],ascending=[True,True,True,False])"
   ]
  },
  {
   "cell_type": "code",
   "execution_count": 52,
   "metadata": {
    "collapsed": false
   },
   "outputs": [
    {
     "data": {
      "text/html": [
       "<div>\n",
       "<table border=\"1\" class=\"dataframe\">\n",
       "  <thead>\n",
       "    <tr style=\"text-align: right;\">\n",
       "      <th></th>\n",
       "      <th>user_location_city</th>\n",
       "      <th>hotel_continent</th>\n",
       "      <th>hotel_country</th>\n",
       "      <th>srch_destination_id</th>\n",
       "      <th>Number_Booking</th>\n",
       "    </tr>\n",
       "  </thead>\n",
       "  <tbody>\n",
       "    <tr>\n",
       "      <th>0</th>\n",
       "      <td>0</td>\n",
       "      <td>0</td>\n",
       "      <td>34</td>\n",
       "      <td>6061</td>\n",
       "      <td>1</td>\n",
       "    </tr>\n",
       "    <tr>\n",
       "      <th>1</th>\n",
       "      <td>0</td>\n",
       "      <td>0</td>\n",
       "      <td>34</td>\n",
       "      <td>22298</td>\n",
       "      <td>1</td>\n",
       "    </tr>\n",
       "    <tr>\n",
       "      <th>5</th>\n",
       "      <td>0</td>\n",
       "      <td>2</td>\n",
       "      <td>50</td>\n",
       "      <td>8250</td>\n",
       "      <td>2</td>\n",
       "    </tr>\n",
       "  </tbody>\n",
       "</table>\n",
       "</div>"
      ],
      "text/plain": [
       "   user_location_city  hotel_continent  hotel_country  srch_destination_id  \\\n",
       "0                   0                0             34                 6061   \n",
       "1                   0                0             34                22298   \n",
       "5                   0                2             50                 8250   \n",
       "\n",
       "   Number_Booking  \n",
       "0               1  \n",
       "1               1  \n",
       "5               2  "
      ]
     },
     "execution_count": 52,
     "metadata": {},
     "output_type": "execute_result"
    }
   ],
   "source": [
    "select_data_booked_sorted_count.head(3)"
   ]
  },
  {
   "cell_type": "code",
   "execution_count": 97,
   "metadata": {
    "collapsed": false
   },
   "outputs": [
    {
     "name": "stdout",
     "output_type": "stream",
     "text": [
      "Enter your city number:5940\n"
     ]
    }
   ],
   "source": [
    "try:\n",
    "    user_city = int(input('Enter your city number:'))\n",
    "except ValueError:\n",
    "    print (\"Not a Number - Please try again\")"
   ]
  },
  {
   "cell_type": "code",
   "execution_count": 98,
   "metadata": {
    "collapsed": true
   },
   "outputs": [],
   "source": [
    "def continent():\n",
    "    try:\n",
    "        hotel_continent=int(input('Enter which continent you plan to visit from above values:'))\n",
    "        if hotel_continent not in unique_continents:\n",
    "            print(\"Please match the values provided to you\")\n",
    "            continent()\n",
    "        else:\n",
    "            x = hotel_continent\n",
    "    except ValueError:\n",
    "        print (\"Not a Number - Please try again\")  \n",
    "        continent()\n",
    "    return x"
   ]
  },
  {
   "cell_type": "code",
   "execution_count": 99,
   "metadata": {
    "collapsed": true
   },
   "outputs": [],
   "source": [
    "def country():\n",
    "    try:\n",
    "        hotel_country = int(input('Enter which country you want to visit from above values:'))\n",
    "        if hotel_country not in unique_country:\n",
    "            print(\"Please match the values provided to you\")\n",
    "            country()\n",
    "        else:\n",
    "            y = hotel_country\n",
    "    except ValueError:\n",
    "        print (\"Not a Number - Please try again\") \n",
    "        country()\n",
    "    return y"
   ]
  },
  {
   "cell_type": "code",
   "execution_count": 100,
   "metadata": {
    "collapsed": false
   },
   "outputs": [],
   "source": [
    "user_selected_df = select_data_booked_sorted_count.loc[select_data_booked_sorted_count['user_location_city']== user_city ]"
   ]
  },
  {
   "cell_type": "code",
   "execution_count": 101,
   "metadata": {
    "collapsed": false
   },
   "outputs": [
    {
     "name": "stdout",
     "output_type": "stream",
     "text": [
      "You can enter the following values for continent [2 4 6]\n",
      "You can enter the following values for country [ 50  51   7  15  21  22  46  70  77 144]\n"
     ]
    }
   ],
   "source": [
    "unique_continents = user_selected_df.hotel_continent.unique()\n",
    "unique_country = user_selected_df.hotel_country.unique()\n",
    "print(\"You can enter the following values for continent\",unique_continents)\n",
    "print(\"You can enter the following values for country\",unique_country)"
   ]
  },
  {
   "cell_type": "code",
   "execution_count": 102,
   "metadata": {
    "collapsed": false
   },
   "outputs": [
    {
     "name": "stdout",
     "output_type": "stream",
     "text": [
      "Enter which continent you plan to visit from above values:2\n",
      "Enter which country you want to visit from above values:50\n"
     ]
    }
   ],
   "source": [
    "hotel_continent = continent()\n",
    "hotel_country = country()"
   ]
  },
  {
   "cell_type": "code",
   "execution_count": 74,
   "metadata": {
    "collapsed": false
   },
   "outputs": [
    {
     "data": {
      "text/plain": [
       "99"
      ]
     },
     "execution_count": 74,
     "metadata": {},
     "output_type": "execute_result"
    }
   ],
   "source": [
    "hotel_country"
   ]
  },
  {
   "cell_type": "code",
   "execution_count": 75,
   "metadata": {
    "collapsed": false
   },
   "outputs": [
    {
     "data": {
      "text/plain": [
       "3"
      ]
     },
     "execution_count": 75,
     "metadata": {},
     "output_type": "execute_result"
    }
   ],
   "source": [
    "hotel_continent"
   ]
  },
  {
   "cell_type": "code",
   "execution_count": 103,
   "metadata": {
    "collapsed": false
   },
   "outputs": [],
   "source": [
    "user_selected_country_city = user_selected_df.loc[(user_selected_df['hotel_continent']==hotel_continent) & (user_selected_df['hotel_country']==hotel_country)]"
   ]
  },
  {
   "cell_type": "code",
   "execution_count": 104,
   "metadata": {
    "collapsed": false
   },
   "outputs": [
    {
     "data": {
      "text/html": [
       "<div>\n",
       "<table border=\"1\" class=\"dataframe\">\n",
       "  <thead>\n",
       "    <tr style=\"text-align: right;\">\n",
       "      <th></th>\n",
       "      <th>user_location_city</th>\n",
       "      <th>hotel_continent</th>\n",
       "      <th>hotel_country</th>\n",
       "      <th>hotelID</th>\n",
       "      <th>Number_Booking</th>\n",
       "    </tr>\n",
       "  </thead>\n",
       "  <tbody>\n",
       "    <tr>\n",
       "      <th>47056</th>\n",
       "      <td>5940</td>\n",
       "      <td>2</td>\n",
       "      <td>50</td>\n",
       "      <td>11569</td>\n",
       "      <td>2</td>\n",
       "    </tr>\n",
       "    <tr>\n",
       "      <th>47052</th>\n",
       "      <td>5940</td>\n",
       "      <td>2</td>\n",
       "      <td>50</td>\n",
       "      <td>8216</td>\n",
       "      <td>1</td>\n",
       "    </tr>\n",
       "    <tr>\n",
       "      <th>47053</th>\n",
       "      <td>5940</td>\n",
       "      <td>2</td>\n",
       "      <td>50</td>\n",
       "      <td>8250</td>\n",
       "      <td>1</td>\n",
       "    </tr>\n",
       "  </tbody>\n",
       "</table>\n",
       "</div>"
      ],
      "text/plain": [
       "       user_location_city  hotel_continent  hotel_country  hotelID  \\\n",
       "47056                5940                2             50    11569   \n",
       "47052                5940                2             50     8216   \n",
       "47053                5940                2             50     8250   \n",
       "\n",
       "       Number_Booking  \n",
       "47056               2  \n",
       "47052               1  \n",
       "47053               1  "
      ]
     },
     "execution_count": 104,
     "metadata": {},
     "output_type": "execute_result"
    }
   ],
   "source": [
    "user_selected_country_city = user_selected_country_city.rename(index = str,columns ={\"srch_destination_id\":\"hotelID\"})\n",
    "user_selected_country_city.head(3)"
   ]
  },
  {
   "cell_type": "code",
   "execution_count": 105,
   "metadata": {
    "collapsed": false
   },
   "outputs": [],
   "source": [
    "user_selected_df_with_comments_osat = user_selected_country_city.merge(expedia_OSAT_result, how ='left')\n",
    "user_selected_df_with_comments_osat = user_selected_df_with_comments_osat.fillna(0)\n",
    "user_selected_df_with_comments_osat = user_selected_df_with_comments_osat.merge(expedia_comments_sum_merge_microsoft_api,how='left').fillna(0)"
   ]
  },
  {
   "cell_type": "code",
   "execution_count": 106,
   "metadata": {
    "collapsed": false,
    "scrolled": true
   },
   "outputs": [
    {
     "data": {
      "text/html": [
       "<div>\n",
       "<table border=\"1\" class=\"dataframe\">\n",
       "  <thead>\n",
       "    <tr style=\"text-align: right;\">\n",
       "      <th></th>\n",
       "      <th>user_location_city</th>\n",
       "      <th>hotel_continent</th>\n",
       "      <th>hotel_country</th>\n",
       "      <th>hotelID</th>\n",
       "      <th>Number_Booking</th>\n",
       "      <th>Number Of Surveys</th>\n",
       "      <th>Cleanliness_Score</th>\n",
       "      <th>Comfort_Score</th>\n",
       "      <th>Condition_Score</th>\n",
       "      <th>Expedia_User_Comments</th>\n",
       "      <th>keywords1</th>\n",
       "      <th>keywords2</th>\n",
       "      <th>keywords3</th>\n",
       "      <th>sentiscore</th>\n",
       "    </tr>\n",
       "  </thead>\n",
       "  <tbody>\n",
       "    <tr>\n",
       "      <th>0</th>\n",
       "      <td>5940</td>\n",
       "      <td>2</td>\n",
       "      <td>50</td>\n",
       "      <td>11569</td>\n",
       "      <td>2</td>\n",
       "      <td>19</td>\n",
       "      <td>3.526316</td>\n",
       "      <td>3.473684</td>\n",
       "      <td>3.263158</td>\n",
       "      <td>0</td>\n",
       "      <td>0</td>\n",
       "      <td>0</td>\n",
       "      <td>0</td>\n",
       "      <td>0.000</td>\n",
       "    </tr>\n",
       "    <tr>\n",
       "      <th>1</th>\n",
       "      <td>5940</td>\n",
       "      <td>2</td>\n",
       "      <td>50</td>\n",
       "      <td>8216</td>\n",
       "      <td>1</td>\n",
       "      <td>57</td>\n",
       "      <td>3.421053</td>\n",
       "      <td>3.000000</td>\n",
       "      <td>3.000000</td>\n",
       "      <td>0</td>\n",
       "      <td>0</td>\n",
       "      <td>0</td>\n",
       "      <td>0</td>\n",
       "      <td>0.000</td>\n",
       "    </tr>\n",
       "    <tr>\n",
       "      <th>2</th>\n",
       "      <td>5940</td>\n",
       "      <td>2</td>\n",
       "      <td>50</td>\n",
       "      <td>8250</td>\n",
       "      <td>1</td>\n",
       "      <td>61</td>\n",
       "      <td>3.442623</td>\n",
       "      <td>3.344262</td>\n",
       "      <td>3.000000</td>\n",
       "      <td>0</td>\n",
       "      <td>0</td>\n",
       "      <td>0</td>\n",
       "      <td>0</td>\n",
       "      <td>0.000</td>\n",
       "    </tr>\n",
       "    <tr>\n",
       "      <th>3</th>\n",
       "      <td>5940</td>\n",
       "      <td>2</td>\n",
       "      <td>50</td>\n",
       "      <td>8291</td>\n",
       "      <td>1</td>\n",
       "      <td>2</td>\n",
       "      <td>0.000000</td>\n",
       "      <td>0.000000</td>\n",
       "      <td>0.000000</td>\n",
       "      <td>0</td>\n",
       "      <td>0</td>\n",
       "      <td>0</td>\n",
       "      <td>0</td>\n",
       "      <td>0.000</td>\n",
       "    </tr>\n",
       "    <tr>\n",
       "      <th>4</th>\n",
       "      <td>5940</td>\n",
       "      <td>2</td>\n",
       "      <td>50</td>\n",
       "      <td>8830</td>\n",
       "      <td>1</td>\n",
       "      <td>1</td>\n",
       "      <td>0.000000</td>\n",
       "      <td>0.000000</td>\n",
       "      <td>0.000000</td>\n",
       "      <td>0</td>\n",
       "      <td>0</td>\n",
       "      <td>0</td>\n",
       "      <td>0</td>\n",
       "      <td>0.000</td>\n",
       "    </tr>\n",
       "    <tr>\n",
       "      <th>5</th>\n",
       "      <td>5940</td>\n",
       "      <td>2</td>\n",
       "      <td>50</td>\n",
       "      <td>12390</td>\n",
       "      <td>1</td>\n",
       "      <td>3</td>\n",
       "      <td>0.000000</td>\n",
       "      <td>0.000000</td>\n",
       "      <td>0.000000</td>\n",
       "      <td>0</td>\n",
       "      <td>0</td>\n",
       "      <td>0</td>\n",
       "      <td>0</td>\n",
       "      <td>0.000</td>\n",
       "    </tr>\n",
       "    <tr>\n",
       "      <th>6</th>\n",
       "      <td>5940</td>\n",
       "      <td>2</td>\n",
       "      <td>50</td>\n",
       "      <td>14845</td>\n",
       "      <td>1</td>\n",
       "      <td>20</td>\n",
       "      <td>4.750000</td>\n",
       "      <td>4.100000</td>\n",
       "      <td>4.250000</td>\n",
       "      <td>0</td>\n",
       "      <td>0</td>\n",
       "      <td>0</td>\n",
       "      <td>0</td>\n",
       "      <td>0.000</td>\n",
       "    </tr>\n",
       "    <tr>\n",
       "      <th>7</th>\n",
       "      <td>5940</td>\n",
       "      <td>2</td>\n",
       "      <td>50</td>\n",
       "      <td>25502</td>\n",
       "      <td>1</td>\n",
       "      <td>20</td>\n",
       "      <td>4.200000</td>\n",
       "      <td>4.000000</td>\n",
       "      <td>3.850000</td>\n",
       "      <td>We chose this hotel, primarily because I got ...</td>\n",
       "      <td>wife</td>\n",
       "      <td>way</td>\n",
       "      <td>elevator</td>\n",
       "      <td>0.525</td>\n",
       "    </tr>\n",
       "    <tr>\n",
       "      <th>8</th>\n",
       "      <td>5940</td>\n",
       "      <td>2</td>\n",
       "      <td>50</td>\n",
       "      <td>25803</td>\n",
       "      <td>1</td>\n",
       "      <td>1</td>\n",
       "      <td>0.000000</td>\n",
       "      <td>0.000000</td>\n",
       "      <td>0.000000</td>\n",
       "      <td>0</td>\n",
       "      <td>0</td>\n",
       "      <td>0</td>\n",
       "      <td>0</td>\n",
       "      <td>0.000</td>\n",
       "    </tr>\n",
       "    <tr>\n",
       "      <th>9</th>\n",
       "      <td>5940</td>\n",
       "      <td>2</td>\n",
       "      <td>50</td>\n",
       "      <td>28584</td>\n",
       "      <td>1</td>\n",
       "      <td>6</td>\n",
       "      <td>3.666667</td>\n",
       "      <td>3.333333</td>\n",
       "      <td>3.500000</td>\n",
       "      <td>0</td>\n",
       "      <td>0</td>\n",
       "      <td>0</td>\n",
       "      <td>0</td>\n",
       "      <td>0.000</td>\n",
       "    </tr>\n",
       "    <tr>\n",
       "      <th>10</th>\n",
       "      <td>5940</td>\n",
       "      <td>2</td>\n",
       "      <td>50</td>\n",
       "      <td>30439</td>\n",
       "      <td>1</td>\n",
       "      <td>1</td>\n",
       "      <td>0.000000</td>\n",
       "      <td>0.000000</td>\n",
       "      <td>0.000000</td>\n",
       "      <td>0</td>\n",
       "      <td>0</td>\n",
       "      <td>0</td>\n",
       "      <td>0</td>\n",
       "      <td>0.000</td>\n",
       "    </tr>\n",
       "  </tbody>\n",
       "</table>\n",
       "</div>"
      ],
      "text/plain": [
       "    user_location_city  hotel_continent  hotel_country  hotelID  \\\n",
       "0                 5940                2             50    11569   \n",
       "1                 5940                2             50     8216   \n",
       "2                 5940                2             50     8250   \n",
       "3                 5940                2             50     8291   \n",
       "4                 5940                2             50     8830   \n",
       "5                 5940                2             50    12390   \n",
       "6                 5940                2             50    14845   \n",
       "7                 5940                2             50    25502   \n",
       "8                 5940                2             50    25803   \n",
       "9                 5940                2             50    28584   \n",
       "10                5940                2             50    30439   \n",
       "\n",
       "    Number_Booking  Number Of Surveys  Cleanliness_Score  Comfort_Score  \\\n",
       "0                2                 19           3.526316       3.473684   \n",
       "1                1                 57           3.421053       3.000000   \n",
       "2                1                 61           3.442623       3.344262   \n",
       "3                1                  2           0.000000       0.000000   \n",
       "4                1                  1           0.000000       0.000000   \n",
       "5                1                  3           0.000000       0.000000   \n",
       "6                1                 20           4.750000       4.100000   \n",
       "7                1                 20           4.200000       4.000000   \n",
       "8                1                  1           0.000000       0.000000   \n",
       "9                1                  6           3.666667       3.333333   \n",
       "10               1                  1           0.000000       0.000000   \n",
       "\n",
       "    Condition_Score                              Expedia_User_Comments  \\\n",
       "0          3.263158                                                  0   \n",
       "1          3.000000                                                  0   \n",
       "2          3.000000                                                  0   \n",
       "3          0.000000                                                  0   \n",
       "4          0.000000                                                  0   \n",
       "5          0.000000                                                  0   \n",
       "6          4.250000                                                  0   \n",
       "7          3.850000   We chose this hotel, primarily because I got ...   \n",
       "8          0.000000                                                  0   \n",
       "9          3.500000                                                  0   \n",
       "10         0.000000                                                  0   \n",
       "\n",
       "   keywords1 keywords2 keywords3  sentiscore  \n",
       "0          0         0         0       0.000  \n",
       "1          0         0         0       0.000  \n",
       "2          0         0         0       0.000  \n",
       "3          0         0         0       0.000  \n",
       "4          0         0         0       0.000  \n",
       "5          0         0         0       0.000  \n",
       "6          0         0         0       0.000  \n",
       "7       wife       way  elevator       0.525  \n",
       "8          0         0         0       0.000  \n",
       "9          0         0         0       0.000  \n",
       "10         0         0         0       0.000  "
      ]
     },
     "execution_count": 106,
     "metadata": {},
     "output_type": "execute_result"
    }
   ],
   "source": [
    "user_selected_df_with_comments_osat"
   ]
  },
  {
   "cell_type": "code",
   "execution_count": 107,
   "metadata": {
    "collapsed": true
   },
   "outputs": [],
   "source": [
    "user_selected_df_with_comments_osat.to_csv(\"user_based_recommended_hotel.csv\")"
   ]
  }
 ],
 "metadata": {
  "anaconda-cloud": {},
  "kernelspec": {
   "display_name": "Python [conda root]",
   "language": "python",
   "name": "conda-root-py"
  },
  "language_info": {
   "codemirror_mode": {
    "name": "ipython",
    "version": 3
   },
   "file_extension": ".py",
   "mimetype": "text/x-python",
   "name": "python",
   "nbconvert_exporter": "python",
   "pygments_lexer": "ipython3",
   "version": "3.5.2"
  }
 },
 "nbformat": 4,
 "nbformat_minor": 2
}
